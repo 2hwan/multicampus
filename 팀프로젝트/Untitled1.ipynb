{
 "cells": [
  {
   "cell_type": "code",
   "execution_count": 2,
   "metadata": {},
   "outputs": [
    {
     "name": "stdout",
     "output_type": "stream",
     "text": [
      "Gulim\n"
     ]
    }
   ],
   "source": [
    "import numpy as np\n",
    "import pandas as pd\n",
    "\n",
    "import matplotlib.pyplot as plt\n",
    "%matplotlib inline\n",
    "\n",
    "import seaborn as sns\n",
    "\n",
    "import matplotlib.font_manager as fm\n",
    "path = 'C:\\Windows\\Fonts\\gulim.ttc'\n",
    "font_name = fm.FontProperties(fname = path).get_name()\n",
    "print(font_name)\n",
    "plt.rc('font', family=font_name)\n",
    "\n",
    "import folium\n",
    "\n",
    "import seaborn as sns\n",
    "\n",
    "import warnings\n",
    "warnings.filterwarnings('ignore')"
   ]
  },
  {
   "cell_type": "code",
   "execution_count": 11,
   "metadata": {},
   "outputs": [
    {
     "data": {
      "text/html": [
       "<div>\n",
       "<style scoped>\n",
       "    .dataframe tbody tr th:only-of-type {\n",
       "        vertical-align: middle;\n",
       "    }\n",
       "\n",
       "    .dataframe tbody tr th {\n",
       "        vertical-align: top;\n",
       "    }\n",
       "\n",
       "    .dataframe thead th {\n",
       "        text-align: right;\n",
       "    }\n",
       "</style>\n",
       "<table border=\"1\" class=\"dataframe\">\n",
       "  <thead>\n",
       "    <tr style=\"text-align: right;\">\n",
       "      <th></th>\n",
       "      <th>비율</th>\n",
       "      <th>아주 잘지켜지고있음</th>\n",
       "      <th>비교적 잘지켜지고있음</th>\n",
       "      <th>보통</th>\n",
       "      <th>비교적 잘지켜지지 않음</th>\n",
       "      <th>전혀 지켜지지않음</th>\n",
       "    </tr>\n",
       "  </thead>\n",
       "  <tbody>\n",
       "    <tr>\n",
       "      <th>0</th>\n",
       "      <td>2008</td>\n",
       "      <td>4.3</td>\n",
       "      <td>25.8</td>\n",
       "      <td>35.7</td>\n",
       "      <td>28.8</td>\n",
       "      <td>5.5</td>\n",
       "    </tr>\n",
       "    <tr>\n",
       "      <th>1</th>\n",
       "      <td>2010</td>\n",
       "      <td>10.4</td>\n",
       "      <td>29.2</td>\n",
       "      <td>33.8</td>\n",
       "      <td>20.9</td>\n",
       "      <td>5.8</td>\n",
       "    </tr>\n",
       "    <tr>\n",
       "      <th>2</th>\n",
       "      <td>2012</td>\n",
       "      <td>8.5</td>\n",
       "      <td>21.3</td>\n",
       "      <td>34.0</td>\n",
       "      <td>28.3</td>\n",
       "      <td>8.0</td>\n",
       "    </tr>\n",
       "    <tr>\n",
       "      <th>3</th>\n",
       "      <td>2014</td>\n",
       "      <td>13.4</td>\n",
       "      <td>25.2</td>\n",
       "      <td>31.1</td>\n",
       "      <td>23.8</td>\n",
       "      <td>6.6</td>\n",
       "    </tr>\n",
       "    <tr>\n",
       "      <th>4</th>\n",
       "      <td>2016</td>\n",
       "      <td>11.5</td>\n",
       "      <td>24.6</td>\n",
       "      <td>32.2</td>\n",
       "      <td>24.8</td>\n",
       "      <td>6.8</td>\n",
       "    </tr>\n",
       "    <tr>\n",
       "      <th>5</th>\n",
       "      <td>2018</td>\n",
       "      <td>14.2</td>\n",
       "      <td>29.4</td>\n",
       "      <td>30.5</td>\n",
       "      <td>19.8</td>\n",
       "      <td>6.1</td>\n",
       "    </tr>\n",
       "  </tbody>\n",
       "</table>\n",
       "</div>"
      ],
      "text/plain": [
       "     비율  아주 잘지켜지고있음  비교적 잘지켜지고있음    보통  비교적 잘지켜지지 않음  전혀 지켜지지않음\n",
       "0  2008         4.3         25.8  35.7          28.8        5.5\n",
       "1  2010        10.4         29.2  33.8          20.9        5.8\n",
       "2  2012         8.5         21.3  34.0          28.3        8.0\n",
       "3  2014        13.4         25.2  31.1          23.8        6.6\n",
       "4  2016        11.5         24.6  32.2          24.8        6.8\n",
       "5  2018        14.2         29.4  30.5          19.8        6.1"
      ]
     },
     "execution_count": 11,
     "metadata": {},
     "output_type": "execute_result"
    }
   ],
   "source": [
    "smoke_r = pd.read_csv('teamproject/smoke_r.csv', encoding='cp949')\n",
    "smoke_r"
   ]
  },
  {
   "cell_type": "code",
   "execution_count": 12,
   "metadata": {},
   "outputs": [
    {
     "data": {
      "text/html": [
       "<div>\n",
       "<style scoped>\n",
       "    .dataframe tbody tr th:only-of-type {\n",
       "        vertical-align: middle;\n",
       "    }\n",
       "\n",
       "    .dataframe tbody tr th {\n",
       "        vertical-align: top;\n",
       "    }\n",
       "\n",
       "    .dataframe thead th {\n",
       "        text-align: right;\n",
       "    }\n",
       "</style>\n",
       "<table border=\"1\" class=\"dataframe\">\n",
       "  <thead>\n",
       "    <tr style=\"text-align: right;\">\n",
       "      <th></th>\n",
       "      <th>아주 잘지켜지고있음</th>\n",
       "      <th>비교적 잘지켜지고있음</th>\n",
       "      <th>보통</th>\n",
       "      <th>비교적 잘지켜지지 않음</th>\n",
       "      <th>전혀 지켜지지않음</th>\n",
       "    </tr>\n",
       "    <tr>\n",
       "      <th>비율</th>\n",
       "      <th></th>\n",
       "      <th></th>\n",
       "      <th></th>\n",
       "      <th></th>\n",
       "      <th></th>\n",
       "    </tr>\n",
       "  </thead>\n",
       "  <tbody>\n",
       "    <tr>\n",
       "      <th>2008</th>\n",
       "      <td>4.3</td>\n",
       "      <td>25.8</td>\n",
       "      <td>35.7</td>\n",
       "      <td>28.8</td>\n",
       "      <td>5.5</td>\n",
       "    </tr>\n",
       "    <tr>\n",
       "      <th>2010</th>\n",
       "      <td>10.4</td>\n",
       "      <td>29.2</td>\n",
       "      <td>33.8</td>\n",
       "      <td>20.9</td>\n",
       "      <td>5.8</td>\n",
       "    </tr>\n",
       "    <tr>\n",
       "      <th>2012</th>\n",
       "      <td>8.5</td>\n",
       "      <td>21.3</td>\n",
       "      <td>34.0</td>\n",
       "      <td>28.3</td>\n",
       "      <td>8.0</td>\n",
       "    </tr>\n",
       "    <tr>\n",
       "      <th>2014</th>\n",
       "      <td>13.4</td>\n",
       "      <td>25.2</td>\n",
       "      <td>31.1</td>\n",
       "      <td>23.8</td>\n",
       "      <td>6.6</td>\n",
       "    </tr>\n",
       "    <tr>\n",
       "      <th>2016</th>\n",
       "      <td>11.5</td>\n",
       "      <td>24.6</td>\n",
       "      <td>32.2</td>\n",
       "      <td>24.8</td>\n",
       "      <td>6.8</td>\n",
       "    </tr>\n",
       "    <tr>\n",
       "      <th>2018</th>\n",
       "      <td>14.2</td>\n",
       "      <td>29.4</td>\n",
       "      <td>30.5</td>\n",
       "      <td>19.8</td>\n",
       "      <td>6.1</td>\n",
       "    </tr>\n",
       "  </tbody>\n",
       "</table>\n",
       "</div>"
      ],
      "text/plain": [
       "      아주 잘지켜지고있음  비교적 잘지켜지고있음    보통  비교적 잘지켜지지 않음  전혀 지켜지지않음\n",
       "비율                                                          \n",
       "2008         4.3         25.8  35.7          28.8        5.5\n",
       "2010        10.4         29.2  33.8          20.9        5.8\n",
       "2012         8.5         21.3  34.0          28.3        8.0\n",
       "2014        13.4         25.2  31.1          23.8        6.6\n",
       "2016        11.5         24.6  32.2          24.8        6.8\n",
       "2018        14.2         29.4  30.5          19.8        6.1"
      ]
     },
     "execution_count": 12,
     "metadata": {},
     "output_type": "execute_result"
    }
   ],
   "source": [
    "smoke_r.set_index('비율', inplace = True)\n",
    "smoke_r"
   ]
  },
  {
   "cell_type": "code",
   "execution_count": 13,
   "metadata": {},
   "outputs": [
    {
     "data": {
      "text/plain": [
       "<matplotlib.axes._subplots.AxesSubplot at 0xc982128>"
      ]
     },
     "execution_count": 13,
     "metadata": {},
     "output_type": "execute_result"
    },
    {
     "data": {
      "image/png": "[encoded data removed]",
      "text/plain": [
       "<Figure size 432x288 with 1 Axes>"
      ]
     },
     "metadata": {
      "needs_background": "light"
     },
     "output_type": "display_data"
    }
   ],
   "source": [
    "smoke_r.plot()"
   ]
  },
  {
   "cell_type": "code",
   "execution_count": null,
   "metadata": {},
   "outputs": [],
   "source": []
  },
  {
   "cell_type": "code",
   "execution_count": null,
   "metadata": {},
   "outputs": [],
   "source": []
  },
  {
   "cell_type": "code",
   "execution_count": null,
   "metadata": {},
   "outputs": [],
   "source": []
  }
 ],
 "metadata": {
  "kernelspec": {
   "display_name": "Python 3",
   "language": "python",
   "name": "python3"
  },
  "language_info": {
   "codemirror_mode": {
    "name": "ipython",
    "version": 3
   },
   "file_extension": ".py",
   "mimetype": "text/x-python",
   "name": "python",
   "nbconvert_exporter": "python",
   "pygments_lexer": "ipython3",
   "version": "3.7.3"
  }
 },
 "nbformat": 4,
 "nbformat_minor": 2
}
