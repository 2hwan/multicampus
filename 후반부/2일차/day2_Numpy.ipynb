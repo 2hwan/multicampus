{
 "cells": [
  {
   "cell_type": "code",
   "execution_count": 1,
   "metadata": {},
   "outputs": [],
   "source": [
    "import numpy as np"
   ]
  },
  {
   "cell_type": "markdown",
   "metadata": {},
   "source": [
    "# Numpy 배열의 Boolean Indexing\n",
    "- 다수개의 배열에서 특정 값을 추출할 때\n",
    "- 배열이름[조건]\n",
    "- True, False"
   ]
  },
  {
   "cell_type": "code",
   "execution_count": 9,
   "metadata": {},
   "outputs": [
    {
     "data": {
      "text/plain": [
       "array(['a', 'b', 'c', 'd', 'b', 'f', 'g'], dtype='<U1')"
      ]
     },
     "execution_count": 9,
     "metadata": {},
     "output_type": "execute_result"
    }
   ],
   "source": [
    "names = np.array(['a','b','c','d','b','f','g'])\n",
    "names"
   ]
  },
  {
   "cell_type": "code",
   "execution_count": 4,
   "metadata": {},
   "outputs": [
    {
     "data": {
      "text/plain": [
       "array([ True, False, False, False, False])"
      ]
     },
     "execution_count": 4,
     "metadata": {},
     "output_type": "execute_result"
    }
   ],
   "source": [
    "names == 'a'"
   ]
  },
  {
   "cell_type": "code",
   "execution_count": 5,
   "metadata": {},
   "outputs": [
    {
     "data": {
      "text/plain": [
       "array([[ 5.31937526e-01,  7.39065727e-01,  1.59948538e+00,\n",
       "         1.50652723e-01],\n",
       "       [ 1.83510348e-01,  2.54428344e-01, -9.79887564e-01,\n",
       "        -1.07657191e+00],\n",
       "       [-3.08755485e-01,  1.98192034e+00,  1.11653601e+00,\n",
       "         5.37588747e-01],\n",
       "       [ 3.28993434e+00, -1.39655261e-03,  4.79685212e-01,\n",
       "        -3.04091265e-01],\n",
       "       [ 4.50574797e-01,  1.57556377e+00, -9.62410764e-01,\n",
       "        -1.32002623e-01],\n",
       "       [-7.60377738e-01, -1.31254159e+00, -5.20192043e-02,\n",
       "        -1.09202499e+00],\n",
       "       [-8.91820700e-01, -1.20878736e+00,  4.43925009e-01,\n",
       "        -4.22185787e-02]])"
      ]
     },
     "execution_count": 5,
     "metadata": {},
     "output_type": "execute_result"
    }
   ],
   "source": [
    "data = np.random.randn(7,4)\n",
    "data"
   ]
  },
  {
   "cell_type": "code",
   "execution_count": 8,
   "metadata": {},
   "outputs": [
    {
     "data": {
      "text/plain": [
       "array([[0.53193753, 0.73906573, 1.59948538, 0.15065272]])"
      ]
     },
     "execution_count": 8,
     "metadata": {},
     "output_type": "execute_result"
    }
   ],
   "source": [
    "data[names == 'a']"
   ]
  },
  {
   "cell_type": "code",
   "execution_count": 10,
   "metadata": {},
   "outputs": [
    {
     "data": {
      "text/plain": [
       "array([[ 0.18351035,  0.25442834, -0.97988756, -1.07657191],\n",
       "       [ 0.4505748 ,  1.57556377, -0.96241076, -0.13200262]])"
      ]
     },
     "execution_count": 10,
     "metadata": {},
     "output_type": "execute_result"
    }
   ],
   "source": [
    "data[names == 'b']"
   ]
  },
  {
   "cell_type": "markdown",
   "metadata": {},
   "source": [
    "# | 연산자 이용"
   ]
  },
  {
   "cell_type": "code",
   "execution_count": 11,
   "metadata": {},
   "outputs": [
    {
     "data": {
      "text/plain": [
       "array(['a', 'b', 'c', 'd', 'b', 'f', 'g'], dtype='<U1')"
      ]
     },
     "execution_count": 11,
     "metadata": {},
     "output_type": "execute_result"
    }
   ],
   "source": [
    "names"
   ]
  },
  {
   "cell_type": "code",
   "execution_count": 12,
   "metadata": {},
   "outputs": [
    {
     "data": {
      "text/plain": [
       "array([ True,  True, False, False,  True, False, False])"
      ]
     },
     "execution_count": 12,
     "metadata": {},
     "output_type": "execute_result"
    }
   ],
   "source": [
    "(names == 'a') | (names == 'b')"
   ]
  },
  {
   "cell_type": "code",
   "execution_count": 14,
   "metadata": {},
   "outputs": [
    {
     "data": {
      "text/plain": [
       "array([[ 0.36219853, -0.67396344,  0.65855081],\n",
       "       [-0.95595821,  0.42395531,  0.02039585],\n",
       "       [ 0.87744372,  0.61144617,  1.08027083]])"
      ]
     },
     "execution_count": 14,
     "metadata": {},
     "output_type": "execute_result"
    }
   ],
   "source": [
    "data = np.random.randn(3,3)\n",
    "data"
   ]
  },
  {
   "cell_type": "code",
   "execution_count": 15,
   "metadata": {},
   "outputs": [
    {
     "data": {
      "text/plain": [
       "array([[ True, False,  True],\n",
       "       [False,  True,  True],\n",
       "       [ True,  True,  True]])"
      ]
     },
     "execution_count": 15,
     "metadata": {},
     "output_type": "execute_result"
    }
   ],
   "source": [
    "data > 0"
   ]
  },
  {
   "cell_type": "markdown",
   "metadata": {},
   "source": [
    "# 마스크 적용후 true 값 갯수 구하기\n",
    "- (조건).sum()"
   ]
  },
  {
   "cell_type": "markdown",
   "metadata": {},
   "source": [
    "# "
   ]
  },
  {
   "cell_type": "code",
   "execution_count": 16,
   "metadata": {},
   "outputs": [
    {
     "data": {
      "text/plain": [
       "7"
      ]
     },
     "execution_count": 16,
     "metadata": {},
     "output_type": "execute_result"
    }
   ],
   "source": [
    "(data>0).sum()"
   ]
  },
  {
   "cell_type": "markdown",
   "metadata": {},
   "source": [
    "# 조건식을 만족하는 실제 값 구하기"
   ]
  },
  {
   "cell_type": "code",
   "execution_count": 17,
   "metadata": {},
   "outputs": [
    {
     "data": {
      "text/plain": [
       "array([0.36219853, 0.65855081, 0.42395531, 0.02039585, 0.87744372,\n",
       "       0.61144617, 1.08027083])"
      ]
     },
     "execution_count": 17,
     "metadata": {},
     "output_type": "execute_result"
    }
   ],
   "source": [
    "data[data>0]"
   ]
  },
  {
   "cell_type": "markdown",
   "metadata": {},
   "source": [
    "# 퀴즈"
   ]
  },
  {
   "cell_type": "code",
   "execution_count": 19,
   "metadata": {},
   "outputs": [
    {
     "data": {
      "text/plain": [
       "array([99, 31, 31, 50, 57, 11, 57, 63,  3, 64,  8, 99, 78, 80, 63, 82, 51,\n",
       "       67, 17, 98])"
      ]
     },
     "execution_count": 19,
     "metadata": {},
     "output_type": "execute_result"
    }
   ],
   "source": [
    "numlist = np.random.randint(1,101,size =20)\n",
    "numlist"
   ]
  },
  {
   "cell_type": "code",
   "execution_count": 21,
   "metadata": {},
   "outputs": [
    {
     "data": {
      "text/plain": [
       "array([[99, 31, 31, 50, 57],\n",
       "       [11, 57, 63,  3, 64],\n",
       "       [ 8, 99, 78, 80, 63],\n",
       "       [82, 51, 67, 17, 98]])"
      ]
     },
     "execution_count": 21,
     "metadata": {},
     "output_type": "execute_result"
    }
   ],
   "source": [
    "numlist = numlist.reshape(4,5)\n",
    "numlist"
   ]
  },
  {
   "cell_type": "code",
   "execution_count": 22,
   "metadata": {},
   "outputs": [
    {
     "data": {
      "text/plain": [
       "array([99, 57, 57, 63, 64, 99, 78, 80, 63, 82, 51, 67, 98])"
      ]
     },
     "execution_count": 22,
     "metadata": {},
     "output_type": "execute_result"
    }
   ],
   "source": [
    "numlist[numlist>50]"
   ]
  },
  {
   "cell_type": "markdown",
   "metadata": {},
   "source": [
    "# 상위 5퍼 숫자 추출"
   ]
  },
  {
   "cell_type": "code",
   "execution_count": 23,
   "metadata": {},
   "outputs": [
    {
     "data": {
      "text/plain": [
       "array([ 0.51510033,  0.3887128 ,  0.63387138,  1.42371225, -0.7671437 ,\n",
       "       -2.87223395, -0.71619015,  0.5554624 ,  0.1317192 ,  1.4546932 ,\n",
       "        1.88714572,  0.16860614, -0.48452875, -0.01625318,  0.44632628,\n",
       "        0.81941178, -0.81596319,  0.64549718,  0.15991855, -0.51370775,\n",
       "       -1.33953531, -1.2937226 , -1.91705929,  0.89020733, -0.26301473,\n",
       "        0.09237493,  0.10569705,  1.047584  , -0.42095149,  1.84672544,\n",
       "        0.82123964, -0.57915037, -0.17861274, -0.41252293, -0.80583642,\n",
       "        0.83185758, -0.49717343, -0.24564846, -1.1075604 ,  1.09568671,\n",
       "        0.32060959,  1.40100722, -0.70315342, -0.06833435,  0.01989039,\n",
       "       -0.35422943,  1.21739598,  0.55725676,  0.02602089,  0.36553946])"
      ]
     },
     "execution_count": 23,
     "metadata": {},
     "output_type": "execute_result"
    }
   ],
   "source": [
    "num = np.random.randn(50)\n",
    "num"
   ]
  },
  {
   "cell_type": "code",
   "execution_count": 24,
   "metadata": {},
   "outputs": [
    {
     "data": {
      "text/plain": [
       "array([ 1.88714572,  1.84672544,  1.4546932 ,  1.42371225,  1.40100722,\n",
       "        1.21739598,  1.09568671,  1.047584  ,  0.89020733,  0.83185758,\n",
       "        0.82123964,  0.81941178,  0.64549718,  0.63387138,  0.55725676,\n",
       "        0.5554624 ,  0.51510033,  0.44632628,  0.3887128 ,  0.36553946,\n",
       "        0.32060959,  0.16860614,  0.15991855,  0.1317192 ,  0.10569705,\n",
       "        0.09237493,  0.02602089,  0.01989039, -0.01625318, -0.06833435,\n",
       "       -0.17861274, -0.24564846, -0.26301473, -0.35422943, -0.41252293,\n",
       "       -0.42095149, -0.48452875, -0.49717343, -0.51370775, -0.57915037,\n",
       "       -0.70315342, -0.71619015, -0.7671437 , -0.80583642, -0.81596319,\n",
       "       -1.1075604 , -1.2937226 , -1.33953531, -1.91705929, -2.87223395])"
      ]
     },
     "execution_count": 24,
     "metadata": {},
     "output_type": "execute_result"
    }
   ],
   "source": [
    "np.sort(num)[::-1]"
   ]
  },
  {
   "cell_type": "code",
   "execution_count": 28,
   "metadata": {},
   "outputs": [
    {
     "data": {
      "text/plain": [
       "2"
      ]
     },
     "execution_count": 28,
     "metadata": {},
     "output_type": "execute_result"
    }
   ],
   "source": [
    "temp = int(0.05*len(num))\n",
    "temp"
   ]
  },
  {
   "cell_type": "code",
   "execution_count": 29,
   "metadata": {},
   "outputs": [
    {
     "data": {
      "text/plain": [
       "array([1.88714572, 1.84672544])"
      ]
     },
     "execution_count": 29,
     "metadata": {},
     "output_type": "execute_result"
    }
   ],
   "source": [
    "np.sort(num)[::-1][0:temp]"
   ]
  },
  {
   "cell_type": "markdown",
   "metadata": {},
   "source": [
    "# 외부 파일 불러오기\n",
    "- 배열명 = np.loadtxt('파일경로',delimiter='구분자',dtype=데이터형)\n",
    "- np.savetxt('파일경로', 배열이름.fmt='포맷형식', delimiter = '구분자')"
   ]
  },
  {
   "cell_type": "code",
   "execution_count": 31,
   "metadata": {},
   "outputs": [
    {
     "data": {
      "text/plain": [
       "array([[        1,      1193,         5, 978300760],\n",
       "       [        1,       661,         3, 978302109],\n",
       "       [        1,       914,         3, 978301968],\n",
       "       [        1,      3408,         4, 978300275],\n",
       "       [        1,      2355,         5, 978824291]], dtype=int64)"
      ]
     },
     "execution_count": 31,
     "metadata": {},
     "output_type": "execute_result"
    }
   ],
   "source": [
    "data = np.loadtxt('data/ratings.dat', delimiter='::', dtype=np.int64)\n",
    "data[:5,:]"
   ]
  },
  {
   "cell_type": "code",
   "execution_count": 32,
   "metadata": {},
   "outputs": [
    {
     "data": {
      "text/plain": [
       "(1000209, 4)"
      ]
     },
     "execution_count": 32,
     "metadata": {},
     "output_type": "execute_result"
    }
   ],
   "source": [
    "data.shape"
   ]
  },
  {
   "cell_type": "code",
   "execution_count": 34,
   "metadata": {},
   "outputs": [
    {
     "data": {
      "text/plain": [
       "array([[        1,      1193,         5, 978300760],\n",
       "       [        1,       661,         3, 978302109],\n",
       "       [        1,       914,         3, 978301968],\n",
       "       [        1,      3408,         4, 978300275],\n",
       "       [        1,      2355,         5, 978824291],\n",
       "       [        1,      1197,         3, 978302268],\n",
       "       [        1,      1287,         5, 978302039],\n",
       "       [        1,      2804,         5, 978300719],\n",
       "       [        1,       594,         4, 978302268],\n",
       "       [        1,       919,         4, 978301368],\n",
       "       [        1,       595,         5, 978824268],\n",
       "       [        1,       938,         4, 978301752],\n",
       "       [        1,      2398,         4, 978302281],\n",
       "       [        1,      2918,         4, 978302124],\n",
       "       [        1,      1035,         5, 978301753],\n",
       "       [        1,      2791,         4, 978302188],\n",
       "       [        1,      2687,         3, 978824268],\n",
       "       [        1,      2018,         4, 978301777],\n",
       "       [        1,      3105,         5, 978301713],\n",
       "       [        1,      2797,         4, 978302039],\n",
       "       [        1,      2321,         3, 978302205],\n",
       "       [        1,       720,         3, 978300760],\n",
       "       [        1,      1270,         5, 978300055],\n",
       "       [        1,       527,         5, 978824195],\n",
       "       [        1,      2340,         3, 978300103],\n",
       "       [        1,        48,         5, 978824351],\n",
       "       [        1,      1097,         4, 978301953],\n",
       "       [        1,      1721,         4, 978300055],\n",
       "       [        1,      1545,         4, 978824139],\n",
       "       [        1,       745,         3, 978824268],\n",
       "       [        1,      2294,         4, 978824291],\n",
       "       [        1,      3186,         4, 978300019],\n",
       "       [        1,      1566,         4, 978824330],\n",
       "       [        1,       588,         4, 978824268],\n",
       "       [        1,      1907,         4, 978824330],\n",
       "       [        1,       783,         4, 978824291],\n",
       "       [        1,      1836,         5, 978300172],\n",
       "       [        1,      1022,         5, 978300055],\n",
       "       [        1,      2762,         4, 978302091],\n",
       "       [        1,       150,         5, 978301777],\n",
       "       [        1,         1,         5, 978824268],\n",
       "       [        1,      1961,         5, 978301590],\n",
       "       [        1,      1962,         4, 978301753],\n",
       "       [        1,      2692,         4, 978301570],\n",
       "       [        1,       260,         4, 978300760],\n",
       "       [        1,      1028,         5, 978301777],\n",
       "       [        1,      1029,         5, 978302205],\n",
       "       [        1,      1207,         4, 978300719],\n",
       "       [        1,      2028,         5, 978301619],\n",
       "       [        1,       531,         4, 978302149],\n",
       "       [        1,      3114,         4, 978302174],\n",
       "       [        1,       608,         4, 978301398],\n",
       "       [        1,      1246,         4, 978302091],\n",
       "       [        2,      1357,         5, 978298709],\n",
       "       [        2,      3068,         4, 978299000],\n",
       "       [        2,      1537,         4, 978299620],\n",
       "       [        2,       647,         3, 978299351],\n",
       "       [        2,      2194,         4, 978299297],\n",
       "       [        2,       648,         4, 978299913],\n",
       "       [        2,      2268,         5, 978299297],\n",
       "       [        2,      2628,         3, 978300051],\n",
       "       [        2,      1103,         3, 978298905],\n",
       "       [        2,      2916,         3, 978299809],\n",
       "       [        2,      3468,         5, 978298542],\n",
       "       [        2,      1210,         4, 978298151],\n",
       "       [        2,      1792,         3, 978299941],\n",
       "       [        2,      1687,         3, 978300174],\n",
       "       [        2,      1213,         2, 978298458],\n",
       "       [        2,      3578,         5, 978298958],\n",
       "       [        2,      2881,         3, 978300002],\n",
       "       [        2,      3030,         4, 978298434],\n",
       "       [        2,      1217,         3, 978298151],\n",
       "       [        2,      3105,         4, 978298673],\n",
       "       [        2,       434,         2, 978300174],\n",
       "       [        2,      2126,         3, 978300123],\n",
       "       [        2,      3107,         2, 978300002],\n",
       "       [        2,      3108,         3, 978299712],\n",
       "       [        2,      3035,         4, 978298625],\n",
       "       [        2,      1253,         3, 978299120],\n",
       "       [        2,      1610,         5, 978299809],\n",
       "       [        2,       292,         3, 978300123],\n",
       "       [        2,      2236,         5, 978299220],\n",
       "       [        2,      3071,         4, 978299120],\n",
       "       [        2,       902,         2, 978298905],\n",
       "       [        2,       368,         4, 978300002],\n",
       "       [        2,      1259,         5, 978298841],\n",
       "       [        2,      3147,         5, 978298652],\n",
       "       [        2,      1544,         4, 978300174],\n",
       "       [        2,      1293,         5, 978298261],\n",
       "       [        2,      1188,         4, 978299620],\n",
       "       [        2,      3255,         4, 978299321],\n",
       "       [        2,      3256,         2, 978299839],\n",
       "       [        2,      3257,         3, 978300073],\n",
       "       [        2,       110,         5, 978298625],\n",
       "       [        2,      2278,         3, 978299889],\n",
       "       [        2,      2490,         3, 978299966],\n",
       "       [        2,      1834,         4, 978298813],\n",
       "       [        2,      3471,         5, 978298814],\n",
       "       [        2,       589,         4, 978299773],\n",
       "       [        2,      1690,         3, 978300051],\n",
       "       [        2,      3654,         3, 978298814],\n",
       "       [        2,      2852,         3, 978298958],\n",
       "       [        2,      1945,         5, 978298458],\n",
       "       [        2,       982,         4, 978299269],\n",
       "       [        2,      1873,         4, 978298542],\n",
       "       [        2,      2858,         4, 978298434],\n",
       "       [        2,      1225,         5, 978298391],\n",
       "       [        2,      2028,         4, 978299773],\n",
       "       [        2,       515,         5, 978298542],\n",
       "       [        2,       442,         3, 978300025],\n",
       "       [        2,      2312,         3, 978299046],\n",
       "       [        2,       265,         4, 978299026],\n",
       "       [        2,      1408,         3, 978299839],\n",
       "       [        2,      1084,         3, 978298813],\n",
       "       [        2,      3699,         2, 978299173],\n",
       "       [        2,       480,         5, 978299809],\n",
       "       [        2,      1442,         4, 978299297],\n",
       "       [        2,      2067,         5, 978298625],\n",
       "       [        2,      1265,         3, 978299712],\n",
       "       [        2,      1370,         5, 978299889],\n",
       "       [        2,      1193,         5, 978298413],\n",
       "       [        2,      1801,         3, 978300002],\n",
       "       [        2,      1372,         3, 978299941],\n",
       "       [        2,      2353,         4, 978299861],\n",
       "       [        2,      3334,         4, 978298958],\n",
       "       [        2,      2427,         2, 978299913],\n",
       "       [        2,       590,         5, 978299083],\n",
       "       [        2,      1196,         5, 978298730],\n",
       "       [        2,      1552,         3, 978299941],\n",
       "       [        2,       736,         4, 978300100],\n",
       "       [        2,      1198,         4, 978298124],\n",
       "       [        2,       593,         5, 978298517],\n",
       "       [        2,      2359,         3, 978299666],\n",
       "       [        2,        95,         2, 978300143],\n",
       "       [        2,      2717,         3, 978298196],\n",
       "       [        2,      2571,         4, 978299773],\n",
       "       [        2,      1917,         3, 978300174],\n",
       "       [        2,      2396,         4, 978299641],\n",
       "       [        2,      3735,         3, 978298814],\n",
       "       [        2,      1953,         4, 978298775],\n",
       "       [        2,      1597,         3, 978300025],\n",
       "       [        2,      3809,         3, 978299712],\n",
       "       [        2,      1954,         5, 978298841],\n",
       "       [        2,      1955,         4, 978299200],\n",
       "       [        2,       235,         3, 978299351],\n",
       "       [        2,      1124,         5, 978299418],\n",
       "       [        2,      1957,         5, 978298750],\n",
       "       [        2,       163,         4, 978299809],\n",
       "       [        2,        21,         1, 978299839],\n",
       "       [        2,       165,         3, 978300002],\n",
       "       [        2,      2321,         3, 978299666],\n",
       "       [        2,      1090,         2, 978298580],\n",
       "       [        2,       380,         5, 978299809],\n",
       "       [        2,      2501,         5, 978298600],\n",
       "       [        2,       349,         4, 978299839],\n",
       "       [        2,       457,         4, 978299773],\n",
       "       [        2,      1096,         4, 978299386],\n",
       "       [        2,       920,         5, 978298775],\n",
       "       [        2,       459,         3, 978300002],\n",
       "       [        2,      1527,         4, 978299839],\n",
       "       [        2,      3418,         4, 978299809],\n",
       "       [        2,      1385,         3, 978299966],\n",
       "       [        2,      3451,         4, 978298924],\n",
       "       [        2,      3095,         4, 978298517],\n",
       "       [        2,       780,         3, 978299966],\n",
       "       [        2,       498,         3, 978299418],\n",
       "       [        2,      2728,         3, 978298881],\n",
       "       [        2,      2002,         5, 978300100],\n",
       "       [        2,      1962,         5, 978298813],\n",
       "       [        2,      1784,         5, 978298841],\n",
       "       [        2,      2943,         4, 978298372],\n",
       "       [        2,      2006,         3, 978299861],\n",
       "       [        2,       318,         5, 978298413],\n",
       "       [        2,      1207,         4, 978298478],\n",
       "       [        2,      1968,         2, 978298881],\n",
       "       [        2,      3678,         3, 978299250],\n",
       "       [        2,      1244,         3, 978299143],\n",
       "       [        2,       356,         5, 978299686],\n",
       "       [        2,      1245,         2, 978299200],\n",
       "       [        2,      1246,         5, 978299418],\n",
       "       [        2,      3893,         1, 978299535],\n",
       "       [        2,      1247,         5, 978298652],\n",
       "       [        3,      3421,         4, 978298147],\n",
       "       [        3,      1641,         2, 978298430],\n",
       "       [        3,       648,         3, 978297867],\n",
       "       [        3,      1394,         4, 978298147],\n",
       "       [        3,      3534,         3, 978297068],\n",
       "       [        3,       104,         4, 978298486],\n",
       "       [        3,      2735,         4, 978297867],\n",
       "       [        3,      1210,         4, 978297600],\n",
       "       [        3,      1431,         3, 978297095],\n",
       "       [        3,      3868,         3, 978298486],\n",
       "       [        3,      1079,         5, 978298296],\n",
       "       [        3,      2997,         3, 978298147],\n",
       "       [        3,      1615,         5, 978297710],\n",
       "       [        3,      1291,         4, 978297600],\n",
       "       [        3,      1259,         5, 978298296],\n",
       "       [        3,       653,         4, 978297757],\n",
       "       [        3,      2167,         5, 978297600],\n",
       "       [        3,      1580,         3, 978297663]], dtype=int64)"
      ]
     },
     "execution_count": 34,
     "metadata": {},
     "output_type": "execute_result"
    }
   ],
   "source": [
    "data[:200,:]"
   ]
  },
  {
   "cell_type": "code",
   "execution_count": 35,
   "metadata": {},
   "outputs": [
    {
     "data": {
      "text/plain": [
       "array([5, 3, 3, 4, 5, 3, 5, 5, 4, 4], dtype=int64)"
      ]
     },
     "execution_count": 35,
     "metadata": {},
     "output_type": "execute_result"
    }
   ],
   "source": [
    "data[:10, 2]"
   ]
  },
  {
   "cell_type": "code",
   "execution_count": 39,
   "metadata": {},
   "outputs": [
    {
     "data": {
      "text/plain": [
       "3.581564453029317"
      ]
     },
     "execution_count": 39,
     "metadata": {},
     "output_type": "execute_result"
    }
   ],
   "source": [
    "data[:,2].mean()"
   ]
  },
  {
   "cell_type": "markdown",
   "metadata": {},
   "source": [
    "# csv 파일로 저장"
   ]
  },
  {
   "cell_type": "code",
   "execution_count": 45,
   "metadata": {},
   "outputs": [
    {
     "data": {
      "text/plain": [
       "array([[        1,      1193,         5, 978300760],\n",
       "       [        1,       661,         3, 978302109],\n",
       "       [        1,       914,         3, 978301968],\n",
       "       [        1,      3408,         4, 978300275],\n",
       "       [        1,      2355,         5, 978824291],\n",
       "       [        1,      1197,         3, 978302268],\n",
       "       [        1,      1287,         5, 978302039],\n",
       "       [        1,      2804,         5, 978300719],\n",
       "       [        1,       594,         4, 978302268],\n",
       "       [        1,       919,         4, 978301368]], dtype=int64)"
      ]
     },
     "execution_count": 45,
     "metadata": {},
     "output_type": "execute_result"
    }
   ],
   "source": [
    "data = np.loadtxt('data/ratings.dat', delimiter='::', dtype=np.int64) \n",
    "data2 = data[:10,:]\n",
    "data2"
   ]
  },
  {
   "cell_type": "code",
   "execution_count": 46,
   "metadata": {},
   "outputs": [],
   "source": [
    "np.savetxt('data.csv', data2, fmt='%.3f', delimiter=',')"
   ]
  },
  {
   "cell_type": "code",
   "execution_count": null,
   "metadata": {},
   "outputs": [],
   "source": []
  },
  {
   "cell_type": "code",
   "execution_count": null,
   "metadata": {},
   "outputs": [],
   "source": []
  },
  {
   "cell_type": "code",
   "execution_count": null,
   "metadata": {},
   "outputs": [],
   "source": []
  },
  {
   "cell_type": "code",
   "execution_count": null,
   "metadata": {},
   "outputs": [],
   "source": []
  },
  {
   "cell_type": "code",
   "execution_count": null,
   "metadata": {},
   "outputs": [],
   "source": []
  },
  {
   "cell_type": "code",
   "execution_count": null,
   "metadata": {},
   "outputs": [],
   "source": []
  },
  {
   "cell_type": "code",
   "execution_count": null,
   "metadata": {},
   "outputs": [],
   "source": []
  },
  {
   "cell_type": "code",
   "execution_count": null,
   "metadata": {},
   "outputs": [],
   "source": []
  },
  {
   "cell_type": "code",
   "execution_count": null,
   "metadata": {},
   "outputs": [],
   "source": []
  },
  {
   "cell_type": "code",
   "execution_count": null,
   "metadata": {},
   "outputs": [],
   "source": []
  },
  {
   "cell_type": "code",
   "execution_count": null,
   "metadata": {},
   "outputs": [],
   "source": []
  },
  {
   "cell_type": "code",
   "execution_count": null,
   "metadata": {},
   "outputs": [],
   "source": []
  },
  {
   "cell_type": "code",
   "execution_count": null,
   "metadata": {},
   "outputs": [],
   "source": []
  },
  {
   "cell_type": "code",
   "execution_count": null,
   "metadata": {},
   "outputs": [],
   "source": []
  },
  {
   "cell_type": "code",
   "execution_count": null,
   "metadata": {},
   "outputs": [],
   "source": []
  },
  {
   "cell_type": "code",
   "execution_count": null,
   "metadata": {},
   "outputs": [],
   "source": []
  },
  {
   "cell_type": "code",
   "execution_count": null,
   "metadata": {},
   "outputs": [],
   "source": []
  },
  {
   "cell_type": "code",
   "execution_count": null,
   "metadata": {},
   "outputs": [],
   "source": []
  },
  {
   "cell_type": "code",
   "execution_count": null,
   "metadata": {},
   "outputs": [],
   "source": []
  },
  {
   "cell_type": "code",
   "execution_count": null,
   "metadata": {},
   "outputs": [],
   "source": []
  },
  {
   "cell_type": "code",
   "execution_count": null,
   "metadata": {},
   "outputs": [],
   "source": []
  },
  {
   "cell_type": "code",
   "execution_count": null,
   "metadata": {},
   "outputs": [],
   "source": []
  },
  {
   "cell_type": "code",
   "execution_count": null,
   "metadata": {},
   "outputs": [],
   "source": []
  },
  {
   "cell_type": "code",
   "execution_count": null,
   "metadata": {},
   "outputs": [],
   "source": []
  },
  {
   "cell_type": "code",
   "execution_count": null,
   "metadata": {},
   "outputs": [],
   "source": []
  },
  {
   "cell_type": "code",
   "execution_count": null,
   "metadata": {},
   "outputs": [],
   "source": []
  },
  {
   "cell_type": "code",
   "execution_count": null,
   "metadata": {},
   "outputs": [],
   "source": []
  },
  {
   "cell_type": "code",
   "execution_count": null,
   "metadata": {},
   "outputs": [],
   "source": []
  },
  {
   "cell_type": "code",
   "execution_count": null,
   "metadata": {},
   "outputs": [],
   "source": []
  },
  {
   "cell_type": "code",
   "execution_count": null,
   "metadata": {},
   "outputs": [],
   "source": []
  },
  {
   "cell_type": "code",
   "execution_count": null,
   "metadata": {},
   "outputs": [],
   "source": []
  },
  {
   "cell_type": "code",
   "execution_count": null,
   "metadata": {},
   "outputs": [],
   "source": []
  },
  {
   "cell_type": "code",
   "execution_count": null,
   "metadata": {},
   "outputs": [],
   "source": []
  },
  {
   "cell_type": "code",
   "execution_count": null,
   "metadata": {},
   "outputs": [],
   "source": []
  },
  {
   "cell_type": "code",
   "execution_count": null,
   "metadata": {},
   "outputs": [],
   "source": []
  },
  {
   "cell_type": "code",
   "execution_count": null,
   "metadata": {},
   "outputs": [],
   "source": []
  },
  {
   "cell_type": "code",
   "execution_count": null,
   "metadata": {},
   "outputs": [],
   "source": []
  },
  {
   "cell_type": "code",
   "execution_count": null,
   "metadata": {},
   "outputs": [],
   "source": []
  },
  {
   "cell_type": "code",
   "execution_count": null,
   "metadata": {},
   "outputs": [],
   "source": []
  },
  {
   "cell_type": "code",
   "execution_count": null,
   "metadata": {},
   "outputs": [],
   "source": []
  },
  {
   "cell_type": "code",
   "execution_count": null,
   "metadata": {},
   "outputs": [],
   "source": []
  },
  {
   "cell_type": "code",
   "execution_count": null,
   "metadata": {},
   "outputs": [],
   "source": []
  },
  {
   "cell_type": "code",
   "execution_count": null,
   "metadata": {},
   "outputs": [],
   "source": []
  },
  {
   "cell_type": "code",
   "execution_count": null,
   "metadata": {},
   "outputs": [],
   "source": []
  },
  {
   "cell_type": "code",
   "execution_count": null,
   "metadata": {},
   "outputs": [],
   "source": []
  },
  {
   "cell_type": "code",
   "execution_count": null,
   "metadata": {},
   "outputs": [],
   "source": []
  },
  {
   "cell_type": "code",
   "execution_count": null,
   "metadata": {},
   "outputs": [],
   "source": []
  },
  {
   "cell_type": "code",
   "execution_count": null,
   "metadata": {},
   "outputs": [],
   "source": []
  }
 ],
 "metadata": {
  "kernelspec": {
   "display_name": "Python 3",
   "language": "python",
   "name": "python3"
  },
  "language_info": {
   "codemirror_mode": {
    "name": "ipython",
    "version": 3
   },
   "file_extension": ".py",
   "mimetype": "text/x-python",
   "name": "python",
   "nbconvert_exporter": "python",
   "pygments_lexer": "ipython3",
   "version": "3.7.3"
  }
 },
 "nbformat": 4,
 "nbformat_minor": 2
}
