{
 "cells": [
  {
   "cell_type": "code",
   "execution_count": 1,
   "metadata": {},
   "outputs": [],
   "source": [
    "import numpy as np\n",
    "import pandas as pd"
   ]
  },
  {
   "cell_type": "code",
   "execution_count": 5,
   "metadata": {},
   "outputs": [
    {
     "data": {
      "text/html": [
       "<div>\n",
       "<style scoped>\n",
       "    .dataframe tbody tr th:only-of-type {\n",
       "        vertical-align: middle;\n",
       "    }\n",
       "\n",
       "    .dataframe tbody tr th {\n",
       "        vertical-align: top;\n",
       "    }\n",
       "\n",
       "    .dataframe thead th {\n",
       "        text-align: right;\n",
       "    }\n",
       "</style>\n",
       "<table border=\"1\" class=\"dataframe\">\n",
       "  <thead>\n",
       "    <tr style=\"text-align: right;\">\n",
       "      <th></th>\n",
       "      <th>관리기관명</th>\n",
       "      <th>소재지도로명주소</th>\n",
       "      <th>소재지지번주소</th>\n",
       "      <th>설치목적구분</th>\n",
       "      <th>카메라대수</th>\n",
       "      <th>카메라화소수</th>\n",
       "      <th>촬영방면정보</th>\n",
       "      <th>보관일수</th>\n",
       "      <th>설치년월</th>\n",
       "      <th>관리기관전화번호</th>\n",
       "      <th>위도</th>\n",
       "      <th>경도</th>\n",
       "      <th>데이터기준일자</th>\n",
       "    </tr>\n",
       "  </thead>\n",
       "  <tbody>\n",
       "    <tr>\n",
       "      <th>0</th>\n",
       "      <td>인천교통공사 계양역</td>\n",
       "      <td>인천광역시 계양구 다남로 24</td>\n",
       "      <td>인천광역시 계양구 귤현동 451-8</td>\n",
       "      <td>다목적</td>\n",
       "      <td>19</td>\n",
       "      <td>41</td>\n",
       "      <td>역사 내</td>\n",
       "      <td>7</td>\n",
       "      <td>1999-10</td>\n",
       "      <td>032-710-9105</td>\n",
       "      <td>37.571539</td>\n",
       "      <td>126.736319</td>\n",
       "      <td>2019-04-30</td>\n",
       "    </tr>\n",
       "    <tr>\n",
       "      <th>1</th>\n",
       "      <td>인천교통공사 귤현역</td>\n",
       "      <td>인천광역시 계양구 장제로 1136</td>\n",
       "      <td>인천광역시 계양구 귤현동 357-2</td>\n",
       "      <td>다목적</td>\n",
       "      <td>19</td>\n",
       "      <td>41</td>\n",
       "      <td>역사 내</td>\n",
       "      <td>7</td>\n",
       "      <td>1999-10</td>\n",
       "      <td>032-515-9104</td>\n",
       "      <td>37.566362</td>\n",
       "      <td>126.742498</td>\n",
       "      <td>2019-04-30</td>\n",
       "    </tr>\n",
       "    <tr>\n",
       "      <th>2</th>\n",
       "      <td>인천교통공사 박촌역</td>\n",
       "      <td>인천광역시 계양구 장제로 992</td>\n",
       "      <td>인천광역시 계양구 박촌동 18-2</td>\n",
       "      <td>다목적</td>\n",
       "      <td>25</td>\n",
       "      <td>41</td>\n",
       "      <td>역사 내</td>\n",
       "      <td>7</td>\n",
       "      <td>1999-10</td>\n",
       "      <td>032-519-3122</td>\n",
       "      <td>37.553525</td>\n",
       "      <td>126.744946</td>\n",
       "      <td>2019-04-30</td>\n",
       "    </tr>\n",
       "    <tr>\n",
       "      <th>3</th>\n",
       "      <td>인천교통공사 임학역</td>\n",
       "      <td>인천광역시 계양구 장제로 875</td>\n",
       "      <td>인천광역시 계양구 임학동 93</td>\n",
       "      <td>다목적</td>\n",
       "      <td>15</td>\n",
       "      <td>41</td>\n",
       "      <td>역사 내</td>\n",
       "      <td>7</td>\n",
       "      <td>1999-10</td>\n",
       "      <td>032-541-3113</td>\n",
       "      <td>37.545058</td>\n",
       "      <td>126.738642</td>\n",
       "      <td>2019-04-30</td>\n",
       "    </tr>\n",
       "    <tr>\n",
       "      <th>4</th>\n",
       "      <td>인천교통공사 계산역</td>\n",
       "      <td>인천광역시 계양구 경명대로 1089</td>\n",
       "      <td>인천광역시 계양구 계산동 1014</td>\n",
       "      <td>다목적</td>\n",
       "      <td>26</td>\n",
       "      <td>41</td>\n",
       "      <td>역사 내</td>\n",
       "      <td>7</td>\n",
       "      <td>1999-10</td>\n",
       "      <td>032-546-3151</td>\n",
       "      <td>37.543243</td>\n",
       "      <td>126.728436</td>\n",
       "      <td>2019-04-30</td>\n",
       "    </tr>\n",
       "  </tbody>\n",
       "</table>\n",
       "</div>"
      ],
      "text/plain": [
       "        관리기관명             소재지도로명주소              소재지지번주소 설치목적구분  카메라대수  카메라화소수  \\\n",
       "0  인천교통공사 계양역     인천광역시 계양구 다남로 24  인천광역시 계양구 귤현동 451-8    다목적     19      41   \n",
       "1  인천교통공사 귤현역   인천광역시 계양구 장제로 1136  인천광역시 계양구 귤현동 357-2    다목적     19      41   \n",
       "2  인천교통공사 박촌역    인천광역시 계양구 장제로 992   인천광역시 계양구 박촌동 18-2    다목적     25      41   \n",
       "3  인천교통공사 임학역    인천광역시 계양구 장제로 875     인천광역시 계양구 임학동 93    다목적     15      41   \n",
       "4  인천교통공사 계산역  인천광역시 계양구 경명대로 1089   인천광역시 계양구 계산동 1014    다목적     26      41   \n",
       "\n",
       "  촬영방면정보  보관일수     설치년월      관리기관전화번호         위도          경도     데이터기준일자  \n",
       "0   역사 내     7  1999-10  032-710-9105  37.571539  126.736319  2019-04-30  \n",
       "1   역사 내     7  1999-10  032-515-9104  37.566362  126.742498  2019-04-30  \n",
       "2   역사 내     7  1999-10  032-519-3122  37.553525  126.744946  2019-04-30  \n",
       "3   역사 내     7  1999-10  032-541-3113  37.545058  126.738642  2019-04-30  \n",
       "4   역사 내     7  1999-10  032-546-3151  37.543243  126.728436  2019-04-30  "
      ]
     },
     "execution_count": 5,
     "metadata": {},
     "output_type": "execute_result"
    }
   ],
   "source": [
    "CCTV_Incheon = pd.read_csv('data/CCTV_in_Inchon.csv', encoding = 'cp949')\n",
    "CCTV_Incheon.head()"
   ]
  },
  {
   "cell_type": "code",
   "execution_count": 6,
   "metadata": {},
   "outputs": [
    {
     "data": {
      "text/plain": [
       "(56, 13)"
      ]
     },
     "execution_count": 6,
     "metadata": {},
     "output_type": "execute_result"
    }
   ],
   "source": [
    "CCTV_Incheon.shape"
   ]
  },
  {
   "cell_type": "code",
   "execution_count": 7,
   "metadata": {},
   "outputs": [
    {
     "data": {
      "text/plain": [
       "Index(['관리기관명', '소재지도로명주소', '소재지지번주소', '설치목적구분', '카메라대수', '카메라화소수', '촬영방면정보',\n",
       "       '보관일수', '설치년월', '관리기관전화번호', '위도', '경도', '데이터기준일자'],\n",
       "      dtype='object')"
      ]
     },
     "execution_count": 7,
     "metadata": {},
     "output_type": "execute_result"
    }
   ],
   "source": [
    "CCTV_Incheon.columns"
   ]
  },
  {
   "cell_type": "code",
   "execution_count": 10,
   "metadata": {},
   "outputs": [],
   "source": [
    "CCTV_Incheon.drop(columns = ['관리기관명', '소재지지번주소', '설치목적구분', '카메라화소수', '촬영방면정보',\n",
    "       '보관일수', '설치년월', '관리기관전화번호', '위도', '경도', '데이터기준일자'], inplace = True)"
   ]
  },
  {
   "cell_type": "code",
   "execution_count": 11,
   "metadata": {},
   "outputs": [
    {
     "data": {
      "text/html": [
       "<div>\n",
       "<style scoped>\n",
       "    .dataframe tbody tr th:only-of-type {\n",
       "        vertical-align: middle;\n",
       "    }\n",
       "\n",
       "    .dataframe tbody tr th {\n",
       "        vertical-align: top;\n",
       "    }\n",
       "\n",
       "    .dataframe thead th {\n",
       "        text-align: right;\n",
       "    }\n",
       "</style>\n",
       "<table border=\"1\" class=\"dataframe\">\n",
       "  <thead>\n",
       "    <tr style=\"text-align: right;\">\n",
       "      <th></th>\n",
       "      <th>소재지도로명주소</th>\n",
       "      <th>카메라대수</th>\n",
       "    </tr>\n",
       "  </thead>\n",
       "  <tbody>\n",
       "    <tr>\n",
       "      <th>0</th>\n",
       "      <td>인천광역시 계양구 다남로 24</td>\n",
       "      <td>19</td>\n",
       "    </tr>\n",
       "    <tr>\n",
       "      <th>1</th>\n",
       "      <td>인천광역시 계양구 장제로 1136</td>\n",
       "      <td>19</td>\n",
       "    </tr>\n",
       "    <tr>\n",
       "      <th>2</th>\n",
       "      <td>인천광역시 계양구 장제로 992</td>\n",
       "      <td>25</td>\n",
       "    </tr>\n",
       "    <tr>\n",
       "      <th>3</th>\n",
       "      <td>인천광역시 계양구 장제로 875</td>\n",
       "      <td>15</td>\n",
       "    </tr>\n",
       "    <tr>\n",
       "      <th>4</th>\n",
       "      <td>인천광역시 계양구 경명대로 1089</td>\n",
       "      <td>26</td>\n",
       "    </tr>\n",
       "  </tbody>\n",
       "</table>\n",
       "</div>"
      ],
      "text/plain": [
       "              소재지도로명주소  카메라대수\n",
       "0     인천광역시 계양구 다남로 24     19\n",
       "1   인천광역시 계양구 장제로 1136     19\n",
       "2    인천광역시 계양구 장제로 992     25\n",
       "3    인천광역시 계양구 장제로 875     15\n",
       "4  인천광역시 계양구 경명대로 1089     26"
      ]
     },
     "execution_count": 11,
     "metadata": {},
     "output_type": "execute_result"
    }
   ],
   "source": [
    "CCTV_Incheon.head()"
   ]
  },
  {
   "cell_type": "code",
   "execution_count": 14,
   "metadata": {},
   "outputs": [
    {
     "data": {
      "text/html": [
       "<div>\n",
       "<style scoped>\n",
       "    .dataframe tbody tr th:only-of-type {\n",
       "        vertical-align: middle;\n",
       "    }\n",
       "\n",
       "    .dataframe tbody tr th {\n",
       "        vertical-align: top;\n",
       "    }\n",
       "\n",
       "    .dataframe thead th {\n",
       "        text-align: right;\n",
       "    }\n",
       "</style>\n",
       "<table border=\"1\" class=\"dataframe\">\n",
       "  <thead>\n",
       "    <tr style=\"text-align: right;\">\n",
       "      <th></th>\n",
       "      <th>주소</th>\n",
       "      <th>CCTV</th>\n",
       "    </tr>\n",
       "  </thead>\n",
       "  <tbody>\n",
       "    <tr>\n",
       "      <th>0</th>\n",
       "      <td>인천광역시 계양구 다남로 24</td>\n",
       "      <td>19</td>\n",
       "    </tr>\n",
       "    <tr>\n",
       "      <th>1</th>\n",
       "      <td>인천광역시 계양구 장제로 1136</td>\n",
       "      <td>19</td>\n",
       "    </tr>\n",
       "    <tr>\n",
       "      <th>2</th>\n",
       "      <td>인천광역시 계양구 장제로 992</td>\n",
       "      <td>25</td>\n",
       "    </tr>\n",
       "    <tr>\n",
       "      <th>3</th>\n",
       "      <td>인천광역시 계양구 장제로 875</td>\n",
       "      <td>15</td>\n",
       "    </tr>\n",
       "    <tr>\n",
       "      <th>4</th>\n",
       "      <td>인천광역시 계양구 경명대로 1089</td>\n",
       "      <td>26</td>\n",
       "    </tr>\n",
       "  </tbody>\n",
       "</table>\n",
       "</div>"
      ],
      "text/plain": [
       "                    주소  CCTV\n",
       "0     인천광역시 계양구 다남로 24    19\n",
       "1   인천광역시 계양구 장제로 1136    19\n",
       "2    인천광역시 계양구 장제로 992    25\n",
       "3    인천광역시 계양구 장제로 875    15\n",
       "4  인천광역시 계양구 경명대로 1089    26"
      ]
     },
     "execution_count": 14,
     "metadata": {},
     "output_type": "execute_result"
    }
   ],
   "source": [
    "CCTV_Incheon.columns = ['주소','CCTV']\n",
    "CCTV_Incheon.head()"
   ]
  },
  {
   "cell_type": "markdown",
   "metadata": {},
   "source": [
    "# 주소 컬럼값 구만 남기고 변경하기"
   ]
  },
  {
   "cell_type": "code",
   "execution_count": 15,
   "metadata": {},
   "outputs": [
    {
     "data": {
      "text/plain": [
       "0       인천광역시 계양구 다남로 24\n",
       "1     인천광역시 계양구 장제로 1136\n",
       "2      인천광역시 계양구 장제로 992\n",
       "3      인천광역시 계양구 장제로 875\n",
       "4    인천광역시 계양구 경명대로 1089\n",
       "Name: 주소, dtype: object"
      ]
     },
     "execution_count": 15,
     "metadata": {},
     "output_type": "execute_result"
    }
   ],
   "source": [
    "jusoS = pd.Series(CCTV_Incheon['주소'])\n",
    "jusoS.head()"
   ]
  },
  {
   "cell_type": "code",
   "execution_count": 16,
   "metadata": {},
   "outputs": [],
   "source": [
    "inCheonGu = ['계양구','부평구','연수구','서구','미추홀구','남동구']\n",
    "for i in range(0,len(inCheonGu)):\n",
    "    for j in range(0,len(jusoS)):\n",
    "        if inCheonGu[i] in jusoS[j]:\n",
    "            jusoS[j] = inCheonGu[i]"
   ]
  },
  {
   "cell_type": "code",
   "execution_count": 17,
   "metadata": {},
   "outputs": [
    {
     "data": {
      "text/plain": [
       "0    계양구\n",
       "1    계양구\n",
       "2    계양구\n",
       "3    계양구\n",
       "4    계양구\n",
       "Name: 주소, dtype: object"
      ]
     },
     "execution_count": 17,
     "metadata": {},
     "output_type": "execute_result"
    }
   ],
   "source": [
    "jusoS.head()"
   ]
  },
  {
   "cell_type": "code",
   "execution_count": 18,
   "metadata": {},
   "outputs": [],
   "source": [
    "CCTV_Incheon['주소'] = jusoS"
   ]
  },
  {
   "cell_type": "code",
   "execution_count": 19,
   "metadata": {},
   "outputs": [
    {
     "data": {
      "text/html": [
       "<div>\n",
       "<style scoped>\n",
       "    .dataframe tbody tr th:only-of-type {\n",
       "        vertical-align: middle;\n",
       "    }\n",
       "\n",
       "    .dataframe tbody tr th {\n",
       "        vertical-align: top;\n",
       "    }\n",
       "\n",
       "    .dataframe thead th {\n",
       "        text-align: right;\n",
       "    }\n",
       "</style>\n",
       "<table border=\"1\" class=\"dataframe\">\n",
       "  <thead>\n",
       "    <tr style=\"text-align: right;\">\n",
       "      <th></th>\n",
       "      <th>주소</th>\n",
       "      <th>CCTV</th>\n",
       "    </tr>\n",
       "  </thead>\n",
       "  <tbody>\n",
       "    <tr>\n",
       "      <th>0</th>\n",
       "      <td>계양구</td>\n",
       "      <td>19</td>\n",
       "    </tr>\n",
       "    <tr>\n",
       "      <th>1</th>\n",
       "      <td>계양구</td>\n",
       "      <td>19</td>\n",
       "    </tr>\n",
       "    <tr>\n",
       "      <th>2</th>\n",
       "      <td>계양구</td>\n",
       "      <td>25</td>\n",
       "    </tr>\n",
       "    <tr>\n",
       "      <th>3</th>\n",
       "      <td>계양구</td>\n",
       "      <td>15</td>\n",
       "    </tr>\n",
       "    <tr>\n",
       "      <th>4</th>\n",
       "      <td>계양구</td>\n",
       "      <td>26</td>\n",
       "    </tr>\n",
       "  </tbody>\n",
       "</table>\n",
       "</div>"
      ],
      "text/plain": [
       "    주소  CCTV\n",
       "0  계양구    19\n",
       "1  계양구    19\n",
       "2  계양구    25\n",
       "3  계양구    15\n",
       "4  계양구    26"
      ]
     },
     "execution_count": 19,
     "metadata": {},
     "output_type": "execute_result"
    }
   ],
   "source": [
    "CCTV_Incheon.head()"
   ]
  },
  {
   "cell_type": "code",
   "execution_count": 20,
   "metadata": {},
   "outputs": [
    {
     "data": {
      "text/html": [
       "<div>\n",
       "<style scoped>\n",
       "    .dataframe tbody tr th:only-of-type {\n",
       "        vertical-align: middle;\n",
       "    }\n",
       "\n",
       "    .dataframe tbody tr th {\n",
       "        vertical-align: top;\n",
       "    }\n",
       "\n",
       "    .dataframe thead th {\n",
       "        text-align: right;\n",
       "    }\n",
       "</style>\n",
       "<table border=\"1\" class=\"dataframe\">\n",
       "  <thead>\n",
       "    <tr style=\"text-align: right;\">\n",
       "      <th></th>\n",
       "      <th>CCTV</th>\n",
       "    </tr>\n",
       "    <tr>\n",
       "      <th>주소</th>\n",
       "      <th></th>\n",
       "    </tr>\n",
       "  </thead>\n",
       "  <tbody>\n",
       "    <tr>\n",
       "      <th>계양구</th>\n",
       "      <td>147</td>\n",
       "    </tr>\n",
       "    <tr>\n",
       "      <th>남동구</th>\n",
       "      <td>278</td>\n",
       "    </tr>\n",
       "    <tr>\n",
       "      <th>미추홀구</th>\n",
       "      <td>121</td>\n",
       "    </tr>\n",
       "    <tr>\n",
       "      <th>부평구</th>\n",
       "      <td>143</td>\n",
       "    </tr>\n",
       "    <tr>\n",
       "      <th>서구</th>\n",
       "      <td>516</td>\n",
       "    </tr>\n",
       "    <tr>\n",
       "      <th>연수구</th>\n",
       "      <td>339</td>\n",
       "    </tr>\n",
       "  </tbody>\n",
       "</table>\n",
       "</div>"
      ],
      "text/plain": [
       "      CCTV\n",
       "주소        \n",
       "계양구    147\n",
       "남동구    278\n",
       "미추홀구   121\n",
       "부평구    143\n",
       "서구     516\n",
       "연수구    339"
      ]
     },
     "execution_count": 20,
     "metadata": {},
     "output_type": "execute_result"
    }
   ],
   "source": [
    "CCTV_Incheon.groupby(['주소']).sum()"
   ]
  },
  {
   "cell_type": "code",
   "execution_count": 22,
   "metadata": {},
   "outputs": [
    {
     "name": "stdout",
     "output_type": "stream",
     "text": [
      "Gulim\n"
     ]
    }
   ],
   "source": [
    "import matplotlib.pyplot as plt\n",
    "%matplotlib inline\n",
    "\n",
    "import seaborn as sns\n",
    "\n",
    "import matplotlib.font_manager as fm\n",
    "path = 'C:\\Windows\\Fonts\\gulim.ttc'\n",
    "font_name = fm.FontProperties(fname = path).get_name()\n",
    "print(font_name)\n",
    "plt.rc('font', family=font_name)\n"
   ]
  },
  {
   "cell_type": "code",
   "execution_count": 23,
   "metadata": {},
   "outputs": [
    {
     "data": {
      "image/png": "[encoded data removed]",
      "text/plain": [
       "<Figure size 360x360 with 1 Axes>"
      ]
     },
     "metadata": {
      "needs_background": "light"
     },
     "output_type": "display_data"
    }
   ],
   "source": [
    "ax = plt.subplots(figsize = (5, 5))\n",
    "ax = sns.countplot(x = '주소', data = CCTV_Incheon, saturation = 0.5)\n",
    "ax.set_title('인천시 구별 CCTV')\n",
    "ax.set_xlabel('인천 구')\n",
    "ax.set_ylabel('CCTV 수')\n",
    "plt.grid()\n",
    "plt.show()"
   ]
  },
  {
   "cell_type": "code",
   "execution_count": 30,
   "metadata": {},
   "outputs": [
    {
     "data": {
      "text/html": [
       "<div>\n",
       "<style scoped>\n",
       "    .dataframe tbody tr th:only-of-type {\n",
       "        vertical-align: middle;\n",
       "    }\n",
       "\n",
       "    .dataframe tbody tr th {\n",
       "        vertical-align: top;\n",
       "    }\n",
       "\n",
       "    .dataframe thead th {\n",
       "        text-align: right;\n",
       "    }\n",
       "</style>\n",
       "<table border=\"1\" class=\"dataframe\">\n",
       "  <thead>\n",
       "    <tr style=\"text-align: right;\">\n",
       "      <th></th>\n",
       "      <th>군  구</th>\n",
       "      <th>주 민 등 록 인 구(남)</th>\n",
       "      <th>주 민 등 록 인 구(여)</th>\n",
       "      <th>주 민 등 록 인 구(세대수)</th>\n",
       "      <th>외 국 인(남)</th>\n",
       "      <th>외 국 인(여)</th>\n",
       "    </tr>\n",
       "  </thead>\n",
       "  <tbody>\n",
       "    <tr>\n",
       "      <th>0</th>\n",
       "      <td>중   구</td>\n",
       "      <td>62202</td>\n",
       "      <td>57227</td>\n",
       "      <td>55952</td>\n",
       "      <td>2006</td>\n",
       "      <td>1886</td>\n",
       "    </tr>\n",
       "    <tr>\n",
       "      <th>1</th>\n",
       "      <td>동   구</td>\n",
       "      <td>33875</td>\n",
       "      <td>33312</td>\n",
       "      <td>29153</td>\n",
       "      <td>518</td>\n",
       "      <td>391</td>\n",
       "    </tr>\n",
       "    <tr>\n",
       "      <th>2</th>\n",
       "      <td>남   구</td>\n",
       "      <td>211021</td>\n",
       "      <td>207512</td>\n",
       "      <td>183418</td>\n",
       "      <td>4281</td>\n",
       "      <td>4235</td>\n",
       "    </tr>\n",
       "    <tr>\n",
       "      <th>3</th>\n",
       "      <td>연수구</td>\n",
       "      <td>169121</td>\n",
       "      <td>170806</td>\n",
       "      <td>126408</td>\n",
       "      <td>4386</td>\n",
       "      <td>4862</td>\n",
       "    </tr>\n",
       "    <tr>\n",
       "      <th>4</th>\n",
       "      <td>남동구</td>\n",
       "      <td>268451</td>\n",
       "      <td>270525</td>\n",
       "      <td>217621</td>\n",
       "      <td>8370</td>\n",
       "      <td>3824</td>\n",
       "    </tr>\n",
       "  </tbody>\n",
       "</table>\n",
       "</div>"
      ],
      "text/plain": [
       "    군  구  주 민 등 록 인 구(남)  주 민 등 록 인 구(여)  주 민 등 록 인 구(세대수)  외 국 인(남)  외 국 인(여)\n",
       "0  중   구           62202           57227             55952      2006      1886\n",
       "1  동   구           33875           33312             29153       518       391\n",
       "2  남   구          211021          207512            183418      4281      4235\n",
       "3    연수구          169121          170806            126408      4386      4862\n",
       "4    남동구          268451          270525            217621      8370      3824"
      ]
     },
     "execution_count": 30,
     "metadata": {},
     "output_type": "execute_result"
    }
   ],
   "source": [
    "pop_incheon = pd.read_csv('data/population_in_Inchon.csv', encoding = 'cp949')\n",
    "pop_incheon.head()"
   ]
  },
  {
   "cell_type": "code",
   "execution_count": 32,
   "metadata": {},
   "outputs": [
    {
     "data": {
      "text/plain": [
       "Index(['군  구', '주 민 등 록 인 구(남)', '주 민 등 록 인 구(여)', '주 민 등 록 인 구(세대수)',\n",
       "       '외 국 인(남)', '외 국 인(여)'],\n",
       "      dtype='object')"
      ]
     },
     "execution_count": 32,
     "metadata": {},
     "output_type": "execute_result"
    }
   ],
   "source": [
    "pop_incheon.columns"
   ]
  },
  {
   "cell_type": "code",
   "execution_count": 36,
   "metadata": {},
   "outputs": [],
   "source": [
    "pop_incheon.drop(columns = ['주 민 등 록 인 구(세대수)'], inplace = True)"
   ]
  },
  {
   "cell_type": "code",
   "execution_count": 37,
   "metadata": {},
   "outputs": [
    {
     "data": {
      "text/html": [
       "<div>\n",
       "<style scoped>\n",
       "    .dataframe tbody tr th:only-of-type {\n",
       "        vertical-align: middle;\n",
       "    }\n",
       "\n",
       "    .dataframe tbody tr th {\n",
       "        vertical-align: top;\n",
       "    }\n",
       "\n",
       "    .dataframe thead th {\n",
       "        text-align: right;\n",
       "    }\n",
       "</style>\n",
       "<table border=\"1\" class=\"dataframe\">\n",
       "  <thead>\n",
       "    <tr style=\"text-align: right;\">\n",
       "      <th></th>\n",
       "      <th>군  구</th>\n",
       "      <th>주 민 등 록 인 구(남)</th>\n",
       "      <th>주 민 등 록 인 구(여)</th>\n",
       "      <th>외 국 인(남)</th>\n",
       "      <th>외 국 인(여)</th>\n",
       "    </tr>\n",
       "  </thead>\n",
       "  <tbody>\n",
       "    <tr>\n",
       "      <th>0</th>\n",
       "      <td>중   구</td>\n",
       "      <td>62202</td>\n",
       "      <td>57227</td>\n",
       "      <td>2006</td>\n",
       "      <td>1886</td>\n",
       "    </tr>\n",
       "    <tr>\n",
       "      <th>1</th>\n",
       "      <td>동   구</td>\n",
       "      <td>33875</td>\n",
       "      <td>33312</td>\n",
       "      <td>518</td>\n",
       "      <td>391</td>\n",
       "    </tr>\n",
       "    <tr>\n",
       "      <th>2</th>\n",
       "      <td>남   구</td>\n",
       "      <td>211021</td>\n",
       "      <td>207512</td>\n",
       "      <td>4281</td>\n",
       "      <td>4235</td>\n",
       "    </tr>\n",
       "    <tr>\n",
       "      <th>3</th>\n",
       "      <td>연수구</td>\n",
       "      <td>169121</td>\n",
       "      <td>170806</td>\n",
       "      <td>4386</td>\n",
       "      <td>4862</td>\n",
       "    </tr>\n",
       "    <tr>\n",
       "      <th>4</th>\n",
       "      <td>남동구</td>\n",
       "      <td>268451</td>\n",
       "      <td>270525</td>\n",
       "      <td>8370</td>\n",
       "      <td>3824</td>\n",
       "    </tr>\n",
       "  </tbody>\n",
       "</table>\n",
       "</div>"
      ],
      "text/plain": [
       "    군  구  주 민 등 록 인 구(남)  주 민 등 록 인 구(여)  외 국 인(남)  외 국 인(여)\n",
       "0  중   구           62202           57227      2006      1886\n",
       "1  동   구           33875           33312       518       391\n",
       "2  남   구          211021          207512      4281      4235\n",
       "3    연수구          169121          170806      4386      4862\n",
       "4    남동구          268451          270525      8370      3824"
      ]
     },
     "execution_count": 37,
     "metadata": {},
     "output_type": "execute_result"
    }
   ],
   "source": [
    "pop_incheon.head()"
   ]
  },
  {
   "cell_type": "code",
   "execution_count": 41,
   "metadata": {},
   "outputs": [],
   "source": [
    "pop_incheon['총인구'] = (pop_incheon['주 민 등 록 인 구(남)'] + pop_incheon['주 민 등 록 인 구(여)']\n",
    "                        + pop_incheon['외 국 인(남)'] + pop_incheon['외 국 인(여)'])"
   ]
  },
  {
   "cell_type": "code",
   "execution_count": 42,
   "metadata": {},
   "outputs": [
    {
     "data": {
      "text/html": [
       "<div>\n",
       "<style scoped>\n",
       "    .dataframe tbody tr th:only-of-type {\n",
       "        vertical-align: middle;\n",
       "    }\n",
       "\n",
       "    .dataframe tbody tr th {\n",
       "        vertical-align: top;\n",
       "    }\n",
       "\n",
       "    .dataframe thead th {\n",
       "        text-align: right;\n",
       "    }\n",
       "</style>\n",
       "<table border=\"1\" class=\"dataframe\">\n",
       "  <thead>\n",
       "    <tr style=\"text-align: right;\">\n",
       "      <th></th>\n",
       "      <th>군  구</th>\n",
       "      <th>주 민 등 록 인 구(남)</th>\n",
       "      <th>주 민 등 록 인 구(여)</th>\n",
       "      <th>외 국 인(남)</th>\n",
       "      <th>외 국 인(여)</th>\n",
       "      <th>총인구</th>\n",
       "    </tr>\n",
       "  </thead>\n",
       "  <tbody>\n",
       "    <tr>\n",
       "      <th>0</th>\n",
       "      <td>중   구</td>\n",
       "      <td>62202</td>\n",
       "      <td>57227</td>\n",
       "      <td>2006</td>\n",
       "      <td>1886</td>\n",
       "      <td>123321</td>\n",
       "    </tr>\n",
       "    <tr>\n",
       "      <th>1</th>\n",
       "      <td>동   구</td>\n",
       "      <td>33875</td>\n",
       "      <td>33312</td>\n",
       "      <td>518</td>\n",
       "      <td>391</td>\n",
       "      <td>68096</td>\n",
       "    </tr>\n",
       "    <tr>\n",
       "      <th>2</th>\n",
       "      <td>남   구</td>\n",
       "      <td>211021</td>\n",
       "      <td>207512</td>\n",
       "      <td>4281</td>\n",
       "      <td>4235</td>\n",
       "      <td>427049</td>\n",
       "    </tr>\n",
       "    <tr>\n",
       "      <th>3</th>\n",
       "      <td>연수구</td>\n",
       "      <td>169121</td>\n",
       "      <td>170806</td>\n",
       "      <td>4386</td>\n",
       "      <td>4862</td>\n",
       "      <td>349175</td>\n",
       "    </tr>\n",
       "    <tr>\n",
       "      <th>4</th>\n",
       "      <td>남동구</td>\n",
       "      <td>268451</td>\n",
       "      <td>270525</td>\n",
       "      <td>8370</td>\n",
       "      <td>3824</td>\n",
       "      <td>551170</td>\n",
       "    </tr>\n",
       "  </tbody>\n",
       "</table>\n",
       "</div>"
      ],
      "text/plain": [
       "    군  구  주 민 등 록 인 구(남)  주 민 등 록 인 구(여)  외 국 인(남)  외 국 인(여)     총인구\n",
       "0  중   구           62202           57227      2006      1886  123321\n",
       "1  동   구           33875           33312       518       391   68096\n",
       "2  남   구          211021          207512      4281      4235  427049\n",
       "3    연수구          169121          170806      4386      4862  349175\n",
       "4    남동구          268451          270525      8370      3824  551170"
      ]
     },
     "execution_count": 42,
     "metadata": {},
     "output_type": "execute_result"
    }
   ],
   "source": [
    "pop_incheon.head()"
   ]
  },
  {
   "cell_type": "code",
   "execution_count": 49,
   "metadata": {},
   "outputs": [],
   "source": [
    "pop_incheon['외국인비율'] = (pop_incheon['외 국 인(남)'] + pop_incheon['외 국 인(여)']) / pop_incheon['총인구'] * 100"
   ]
  },
  {
   "cell_type": "code",
   "execution_count": 50,
   "metadata": {},
   "outputs": [
    {
     "data": {
      "text/html": [
       "<div>\n",
       "<style scoped>\n",
       "    .dataframe tbody tr th:only-of-type {\n",
       "        vertical-align: middle;\n",
       "    }\n",
       "\n",
       "    .dataframe tbody tr th {\n",
       "        vertical-align: top;\n",
       "    }\n",
       "\n",
       "    .dataframe thead th {\n",
       "        text-align: right;\n",
       "    }\n",
       "</style>\n",
       "<table border=\"1\" class=\"dataframe\">\n",
       "  <thead>\n",
       "    <tr style=\"text-align: right;\">\n",
       "      <th></th>\n",
       "      <th>주 민 등 록 인 구(남)</th>\n",
       "      <th>주 민 등 록 인 구(여)</th>\n",
       "      <th>외 국 인(남)</th>\n",
       "      <th>외 국 인(여)</th>\n",
       "      <th>총인구</th>\n",
       "      <th>외국인비율</th>\n",
       "    </tr>\n",
       "    <tr>\n",
       "      <th>구별</th>\n",
       "      <th></th>\n",
       "      <th></th>\n",
       "      <th></th>\n",
       "      <th></th>\n",
       "      <th></th>\n",
       "      <th></th>\n",
       "    </tr>\n",
       "  </thead>\n",
       "  <tbody>\n",
       "    <tr>\n",
       "      <th>중   구</th>\n",
       "      <td>62202</td>\n",
       "      <td>57227</td>\n",
       "      <td>2006</td>\n",
       "      <td>1886</td>\n",
       "      <td>123321</td>\n",
       "      <td>3.155991</td>\n",
       "    </tr>\n",
       "    <tr>\n",
       "      <th>동   구</th>\n",
       "      <td>33875</td>\n",
       "      <td>33312</td>\n",
       "      <td>518</td>\n",
       "      <td>391</td>\n",
       "      <td>68096</td>\n",
       "      <td>1.334880</td>\n",
       "    </tr>\n",
       "    <tr>\n",
       "      <th>남   구</th>\n",
       "      <td>211021</td>\n",
       "      <td>207512</td>\n",
       "      <td>4281</td>\n",
       "      <td>4235</td>\n",
       "      <td>427049</td>\n",
       "      <td>1.994151</td>\n",
       "    </tr>\n",
       "    <tr>\n",
       "      <th>연수구</th>\n",
       "      <td>169121</td>\n",
       "      <td>170806</td>\n",
       "      <td>4386</td>\n",
       "      <td>4862</td>\n",
       "      <td>349175</td>\n",
       "      <td>2.648529</td>\n",
       "    </tr>\n",
       "    <tr>\n",
       "      <th>남동구</th>\n",
       "      <td>268451</td>\n",
       "      <td>270525</td>\n",
       "      <td>8370</td>\n",
       "      <td>3824</td>\n",
       "      <td>551170</td>\n",
       "      <td>2.212385</td>\n",
       "    </tr>\n",
       "  </tbody>\n",
       "</table>\n",
       "</div>"
      ],
      "text/plain": [
       "       주 민 등 록 인 구(남)  주 민 등 록 인 구(여)  외 국 인(남)  외 국 인(여)     총인구     외국인비율\n",
       "구별                                                                         \n",
       "중   구           62202           57227      2006      1886  123321  3.155991\n",
       "동   구           33875           33312       518       391   68096  1.334880\n",
       "남   구          211021          207512      4281      4235  427049  1.994151\n",
       "연수구            169121          170806      4386      4862  349175  2.648529\n",
       "남동구            268451          270525      8370      3824  551170  2.212385"
      ]
     },
     "execution_count": 50,
     "metadata": {},
     "output_type": "execute_result"
    }
   ],
   "source": [
    "pop_incheon.head()"
   ]
  },
  {
   "cell_type": "code",
   "execution_count": 51,
   "metadata": {},
   "outputs": [
    {
     "data": {
      "text/html": [
       "<div>\n",
       "<style scoped>\n",
       "    .dataframe tbody tr th:only-of-type {\n",
       "        vertical-align: middle;\n",
       "    }\n",
       "\n",
       "    .dataframe tbody tr th {\n",
       "        vertical-align: top;\n",
       "    }\n",
       "\n",
       "    .dataframe thead th {\n",
       "        text-align: right;\n",
       "    }\n",
       "</style>\n",
       "<table border=\"1\" class=\"dataframe\">\n",
       "  <thead>\n",
       "    <tr style=\"text-align: right;\">\n",
       "      <th></th>\n",
       "      <th>구별</th>\n",
       "      <th>주 민 등 록 인 구(여)</th>\n",
       "      <th>외 국 인(남)</th>\n",
       "      <th>외 국 인(여)</th>\n",
       "      <th>총인구</th>\n",
       "      <th>외국인비율</th>\n",
       "    </tr>\n",
       "    <tr>\n",
       "      <th>구별</th>\n",
       "      <th></th>\n",
       "      <th></th>\n",
       "      <th></th>\n",
       "      <th></th>\n",
       "      <th></th>\n",
       "      <th></th>\n",
       "    </tr>\n",
       "  </thead>\n",
       "  <tbody>\n",
       "    <tr>\n",
       "      <th>중   구</th>\n",
       "      <td>62202</td>\n",
       "      <td>57227</td>\n",
       "      <td>2006</td>\n",
       "      <td>1886</td>\n",
       "      <td>123321</td>\n",
       "      <td>3.155991</td>\n",
       "    </tr>\n",
       "    <tr>\n",
       "      <th>동   구</th>\n",
       "      <td>33875</td>\n",
       "      <td>33312</td>\n",
       "      <td>518</td>\n",
       "      <td>391</td>\n",
       "      <td>68096</td>\n",
       "      <td>1.334880</td>\n",
       "    </tr>\n",
       "    <tr>\n",
       "      <th>남   구</th>\n",
       "      <td>211021</td>\n",
       "      <td>207512</td>\n",
       "      <td>4281</td>\n",
       "      <td>4235</td>\n",
       "      <td>427049</td>\n",
       "      <td>1.994151</td>\n",
       "    </tr>\n",
       "    <tr>\n",
       "      <th>연수구</th>\n",
       "      <td>169121</td>\n",
       "      <td>170806</td>\n",
       "      <td>4386</td>\n",
       "      <td>4862</td>\n",
       "      <td>349175</td>\n",
       "      <td>2.648529</td>\n",
       "    </tr>\n",
       "    <tr>\n",
       "      <th>남동구</th>\n",
       "      <td>268451</td>\n",
       "      <td>270525</td>\n",
       "      <td>8370</td>\n",
       "      <td>3824</td>\n",
       "      <td>551170</td>\n",
       "      <td>2.212385</td>\n",
       "    </tr>\n",
       "  </tbody>\n",
       "</table>\n",
       "</div>"
      ],
      "text/plain": [
       "           구별  주 민 등 록 인 구(여)  외 국 인(남)  외 국 인(여)     총인구     외국인비율\n",
       "구별                                                                 \n",
       "중   구   62202           57227      2006      1886  123321  3.155991\n",
       "동   구   33875           33312       518       391   68096  1.334880\n",
       "남   구  211021          207512      4281      4235  427049  1.994151\n",
       "연수구    169121          170806      4386      4862  349175  2.648529\n",
       "남동구    268451          270525      8370      3824  551170  2.212385"
      ]
     },
     "execution_count": 51,
     "metadata": {},
     "output_type": "execute_result"
    }
   ],
   "source": [
    "pop_incheon.rename(columns = {pop_incheon.columns[0] : '구별' }, inplace= True)\n",
    "pop_incheon.head()"
   ]
  },
  {
   "cell_type": "code",
   "execution_count": 52,
   "metadata": {},
   "outputs": [
    {
     "data": {
      "text/html": [
       "<div>\n",
       "<style scoped>\n",
       "    .dataframe tbody tr th:only-of-type {\n",
       "        vertical-align: middle;\n",
       "    }\n",
       "\n",
       "    .dataframe tbody tr th {\n",
       "        vertical-align: top;\n",
       "    }\n",
       "\n",
       "    .dataframe thead th {\n",
       "        text-align: right;\n",
       "    }\n",
       "</style>\n",
       "<table border=\"1\" class=\"dataframe\">\n",
       "  <thead>\n",
       "    <tr style=\"text-align: right;\">\n",
       "      <th></th>\n",
       "      <th>주 민 등 록 인 구(여)</th>\n",
       "      <th>외 국 인(남)</th>\n",
       "      <th>외 국 인(여)</th>\n",
       "      <th>총인구</th>\n",
       "      <th>외국인비율</th>\n",
       "    </tr>\n",
       "    <tr>\n",
       "      <th>구별</th>\n",
       "      <th></th>\n",
       "      <th></th>\n",
       "      <th></th>\n",
       "      <th></th>\n",
       "      <th></th>\n",
       "    </tr>\n",
       "  </thead>\n",
       "  <tbody>\n",
       "    <tr>\n",
       "      <th>62202</th>\n",
       "      <td>57227</td>\n",
       "      <td>2006</td>\n",
       "      <td>1886</td>\n",
       "      <td>123321</td>\n",
       "      <td>3.155991</td>\n",
       "    </tr>\n",
       "    <tr>\n",
       "      <th>33875</th>\n",
       "      <td>33312</td>\n",
       "      <td>518</td>\n",
       "      <td>391</td>\n",
       "      <td>68096</td>\n",
       "      <td>1.334880</td>\n",
       "    </tr>\n",
       "    <tr>\n",
       "      <th>211021</th>\n",
       "      <td>207512</td>\n",
       "      <td>4281</td>\n",
       "      <td>4235</td>\n",
       "      <td>427049</td>\n",
       "      <td>1.994151</td>\n",
       "    </tr>\n",
       "  </tbody>\n",
       "</table>\n",
       "</div>"
      ],
      "text/plain": [
       "        주 민 등 록 인 구(여)  외 국 인(남)  외 국 인(여)     총인구     외국인비율\n",
       "구별                                                          \n",
       "62202            57227      2006      1886  123321  3.155991\n",
       "33875            33312       518       391   68096  1.334880\n",
       "211021          207512      4281      4235  427049  1.994151"
      ]
     },
     "execution_count": 52,
     "metadata": {},
     "output_type": "execute_result"
    }
   ],
   "source": [
    "pop_incheon.set_index('구별',inplace = True)\n",
    "pop_incheon.head(3)"
   ]
  },
  {
   "cell_type": "code",
   "execution_count": 60,
   "metadata": {},
   "outputs": [
    {
     "data": {
      "image/png": "[encoded data removed]",
      "text/plain": [
       "<Figure size 1080x576 with 2 Axes>"
      ]
     },
     "metadata": {
      "needs_background": "light"
     },
     "output_type": "display_data"
    }
   ],
   "source": [
    "plt.figure(figsize = (15,8))\n",
    "plt.subplot(121)\n",
    "pop_incheon['총인구'].plot(kind='barh', grid = True)\n",
    "plt.title('총인구')\n",
    "plt.subplot(122)\n",
    "pop_incheon['외국인비율'].plot(kind='barh', grid = True)\n",
    "plt.title('외국인비율')\n",
    "plt.show()"
   ]
  },
  {
   "cell_type": "code",
   "execution_count": null,
   "metadata": {},
   "outputs": [],
   "source": []
  },
  {
   "cell_type": "code",
   "execution_count": null,
   "metadata": {},
   "outputs": [],
   "source": []
  },
  {
   "cell_type": "code",
   "execution_count": null,
   "metadata": {},
   "outputs": [],
   "source": []
  },
  {
   "cell_type": "code",
   "execution_count": null,
   "metadata": {},
   "outputs": [],
   "source": []
  },
  {
   "cell_type": "code",
   "execution_count": null,
   "metadata": {},
   "outputs": [],
   "source": []
  },
  {
   "cell_type": "code",
   "execution_count": null,
   "metadata": {},
   "outputs": [],
   "source": []
  },
  {
   "cell_type": "code",
   "execution_count": null,
   "metadata": {},
   "outputs": [],
   "source": []
  },
  {
   "cell_type": "code",
   "execution_count": null,
   "metadata": {},
   "outputs": [],
   "source": []
  },
  {
   "cell_type": "code",
   "execution_count": null,
   "metadata": {},
   "outputs": [],
   "source": []
  },
  {
   "cell_type": "code",
   "execution_count": null,
   "metadata": {},
   "outputs": [],
   "source": []
  },
  {
   "cell_type": "code",
   "execution_count": null,
   "metadata": {},
   "outputs": [],
   "source": []
  },
  {
   "cell_type": "code",
   "execution_count": null,
   "metadata": {},
   "outputs": [],
   "source": []
  },
  {
   "cell_type": "code",
   "execution_count": null,
   "metadata": {},
   "outputs": [],
   "source": []
  },
  {
   "cell_type": "code",
   "execution_count": null,
   "metadata": {},
   "outputs": [],
   "source": []
  },
  {
   "cell_type": "code",
   "execution_count": null,
   "metadata": {},
   "outputs": [],
   "source": []
  },
  {
   "cell_type": "code",
   "execution_count": null,
   "metadata": {},
   "outputs": [],
   "source": []
  },
  {
   "cell_type": "code",
   "execution_count": null,
   "metadata": {},
   "outputs": [],
   "source": []
  },
  {
   "cell_type": "code",
   "execution_count": null,
   "metadata": {},
   "outputs": [],
   "source": []
  },
  {
   "cell_type": "code",
   "execution_count": null,
   "metadata": {},
   "outputs": [],
   "source": []
  },
  {
   "cell_type": "code",
   "execution_count": null,
   "metadata": {},
   "outputs": [],
   "source": []
  },
  {
   "cell_type": "code",
   "execution_count": null,
   "metadata": {},
   "outputs": [],
   "source": []
  },
  {
   "cell_type": "code",
   "execution_count": null,
   "metadata": {},
   "outputs": [],
   "source": []
  },
  {
   "cell_type": "code",
   "execution_count": null,
   "metadata": {},
   "outputs": [],
   "source": []
  }
 ],
 "metadata": {
  "kernelspec": {
   "display_name": "Python 3",
   "language": "python",
   "name": "python3"
  },
  "language_info": {
   "codemirror_mode": {
    "name": "ipython",
    "version": 3
   },
   "file_extension": ".py",
   "mimetype": "text/x-python",
   "name": "python",
   "nbconvert_exporter": "python",
   "pygments_lexer": "ipython3",
   "version": "3.7.3"
  }
 },
 "nbformat": 4,
 "nbformat_minor": 2
}
