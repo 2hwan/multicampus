{
 "cells": [
  {
   "cell_type": "markdown",
   "metadata": {},
   "source": [
    "# 스타벅스와 이디야 \n",
    "\n",
    "- 자료 위치 : 소상공인시장진흥공단_상가업소정보_201806\n",
    "\n",
    "https://www.data.go.kr/dataset/15012005/fileData.do\n",
    "\n",
    "201806년도 자료받기 \n",
    "상공인시장진흥공단_상가업소정보_201806.zip\n",
    "\n",
    "압축해제 "
   ]
  },
  {
   "cell_type": "markdown",
   "metadata": {},
   "source": [
    "# 환경설정"
   ]
  },
  {
   "cell_type": "code",
   "execution_count": 2,
   "metadata": {},
   "outputs": [
    {
     "name": "stdout",
     "output_type": "stream",
     "text": [
      "Malgun Gothic\n"
     ]
    }
   ],
   "source": [
    "import pandas as pd\n",
    "import numpy as np\n",
    "import re\n",
    "\n",
    "# 경고 메세지 없애기\n",
    "import warnings\n",
    "warnings.filterwarnings('ignore')\n",
    "\n",
    "import matplotlib.pyplot as plt\n",
    "%matplotlib inline\n",
    "\n",
    "import matplotlib.font_manager as fm\n",
    "path = 'C:\\Windows\\Fonts\\malgunbd.ttf'\n",
    "font_name = fm.FontProperties(fname=path).get_name()\n",
    "print(font_name)\n",
    "plt.rc('font', family=font_name)\n",
    "\n",
    "import seaborn as sns\n",
    "\n",
    "# 지도 표현\n",
    "import folium\n",
    "\n",
    "# ggplot\n",
    "from plotnine import *"
   ]
  },
  {
   "cell_type": "markdown",
   "metadata": {},
   "source": [
    "### 소상공인시장진흥공단_상가업소정보_201806_01.csv 데이타프레임 생성 "
   ]
  },
  {
   "cell_type": "markdown",
   "metadata": {},
   "source": [
    "shop_2018 = pd.read_csv('data/소상공인시장진흥공단_상가업소정보_201806_01.csv', encoding='cp949')\n",
    "shop_2018.head()"
   ]
  },
  {
   "cell_type": "code",
   "execution_count": 4,
   "metadata": {
    "scrolled": true
   },
   "outputs": [
    {
     "data": {
      "text/html": [
       "<div>\n",
       "<style scoped>\n",
       "    .dataframe tbody tr th:only-of-type {\n",
       "        vertical-align: middle;\n",
       "    }\n",
       "\n",
       "    .dataframe tbody tr th {\n",
       "        vertical-align: top;\n",
       "    }\n",
       "\n",
       "    .dataframe thead th {\n",
       "        text-align: right;\n",
       "    }\n",
       "</style>\n",
       "<table border=\"1\" class=\"dataframe\">\n",
       "  <thead>\n",
       "    <tr style=\"text-align: right;\">\n",
       "      <th></th>\n",
       "      <th>상가업소번호</th>\n",
       "      <th>상호명</th>\n",
       "      <th>지점명</th>\n",
       "      <th>상권업종대분류코드</th>\n",
       "      <th>상권업종대분류명</th>\n",
       "      <th>상권업종중분류코드</th>\n",
       "      <th>상권업종중분류명</th>\n",
       "      <th>상권업종소분류코드</th>\n",
       "      <th>상권업종소분류명</th>\n",
       "      <th>표준산업분류코드</th>\n",
       "      <th>...</th>\n",
       "      <th>건물관리번호</th>\n",
       "      <th>건물명</th>\n",
       "      <th>도로명주소</th>\n",
       "      <th>구우편번호</th>\n",
       "      <th>신우편번호</th>\n",
       "      <th>동정보</th>\n",
       "      <th>층정보</th>\n",
       "      <th>호정보</th>\n",
       "      <th>경도</th>\n",
       "      <th>위도</th>\n",
       "    </tr>\n",
       "  </thead>\n",
       "  <tbody>\n",
       "    <tr>\n",
       "      <th>0</th>\n",
       "      <td>28523551</td>\n",
       "      <td>엘가커피부산아시아드점</td>\n",
       "      <td>부산아시아드점</td>\n",
       "      <td>Q</td>\n",
       "      <td>음식</td>\n",
       "      <td>Q12</td>\n",
       "      <td>커피점/카페</td>\n",
       "      <td>Q12A01</td>\n",
       "      <td>커피전문점/카페/다방</td>\n",
       "      <td>I56220</td>\n",
       "      <td>...</td>\n",
       "      <td>2647010100111980000009422</td>\n",
       "      <td>부산아시아드주경기장노외주차장</td>\n",
       "      <td>부산광역시 연제구 종합운동장로 7</td>\n",
       "      <td>611070</td>\n",
       "      <td>47500.0</td>\n",
       "      <td>NaN</td>\n",
       "      <td>1</td>\n",
       "      <td>NaN</td>\n",
       "      <td>129.062034</td>\n",
       "      <td>35.191284</td>\n",
       "    </tr>\n",
       "    <tr>\n",
       "      <th>1</th>\n",
       "      <td>28498271</td>\n",
       "      <td>비비안아울렛중계점</td>\n",
       "      <td>아울렛중계점</td>\n",
       "      <td>D</td>\n",
       "      <td>소매</td>\n",
       "      <td>D05</td>\n",
       "      <td>의복의류</td>\n",
       "      <td>D05A07</td>\n",
       "      <td>셔츠/내의/속옷</td>\n",
       "      <td>NaN</td>\n",
       "      <td>...</td>\n",
       "      <td>1135010600105090000010511</td>\n",
       "      <td>2001아울렛</td>\n",
       "      <td>서울특별시 노원구 동일로204가길 46</td>\n",
       "      <td>139726</td>\n",
       "      <td>1783.0</td>\n",
       "      <td>NaN</td>\n",
       "      <td>3</td>\n",
       "      <td>NaN</td>\n",
       "      <td>127.067888</td>\n",
       "      <td>37.641280</td>\n",
       "    </tr>\n",
       "    <tr>\n",
       "      <th>2</th>\n",
       "      <td>28512174</td>\n",
       "      <td>연세정신건강의학과의원</td>\n",
       "      <td>NaN</td>\n",
       "      <td>S</td>\n",
       "      <td>의료</td>\n",
       "      <td>S01</td>\n",
       "      <td>병원</td>\n",
       "      <td>S01B99</td>\n",
       "      <td>기타병원</td>\n",
       "      <td>NaN</td>\n",
       "      <td>...</td>\n",
       "      <td>1111017400102990000005842</td>\n",
       "      <td>유림문화사</td>\n",
       "      <td>서울특별시 종로구 종로 335-3</td>\n",
       "      <td>110540</td>\n",
       "      <td>3104.0</td>\n",
       "      <td>NaN</td>\n",
       "      <td>2</td>\n",
       "      <td>NaN</td>\n",
       "      <td>127.014500</td>\n",
       "      <td>37.573196</td>\n",
       "    </tr>\n",
       "    <tr>\n",
       "      <th>3</th>\n",
       "      <td>28499926</td>\n",
       "      <td>독일지멘스보청기은평점</td>\n",
       "      <td>은평점</td>\n",
       "      <td>D</td>\n",
       "      <td>소매</td>\n",
       "      <td>D20</td>\n",
       "      <td>의약/의료품소매</td>\n",
       "      <td>D20A02</td>\n",
       "      <td>보청기판매</td>\n",
       "      <td>G47812</td>\n",
       "      <td>...</td>\n",
       "      <td>1138010300102810108040063</td>\n",
       "      <td>NaN</td>\n",
       "      <td>서울특별시 은평구 통일로 732</td>\n",
       "      <td>122040</td>\n",
       "      <td>3368.0</td>\n",
       "      <td>NaN</td>\n",
       "      <td>2</td>\n",
       "      <td>NaN</td>\n",
       "      <td>126.929871</td>\n",
       "      <td>37.610888</td>\n",
       "    </tr>\n",
       "    <tr>\n",
       "      <th>4</th>\n",
       "      <td>28490321</td>\n",
       "      <td>서울모드</td>\n",
       "      <td>NaN</td>\n",
       "      <td>Q</td>\n",
       "      <td>음식</td>\n",
       "      <td>Q12</td>\n",
       "      <td>커피점/카페</td>\n",
       "      <td>Q12A01</td>\n",
       "      <td>커피전문점/카페/다방</td>\n",
       "      <td>I56220</td>\n",
       "      <td>...</td>\n",
       "      <td>1168010700105170027011767</td>\n",
       "      <td>SM빌딩</td>\n",
       "      <td>서울특별시 강남구 도산대로11길 29</td>\n",
       "      <td>135888</td>\n",
       "      <td>6034.0</td>\n",
       "      <td>NaN</td>\n",
       "      <td>1</td>\n",
       "      <td>NaN</td>\n",
       "      <td>127.022212</td>\n",
       "      <td>37.519315</td>\n",
       "    </tr>\n",
       "  </tbody>\n",
       "</table>\n",
       "<p>5 rows × 39 columns</p>\n",
       "</div>"
      ],
      "text/plain": [
       "     상가업소번호          상호명      지점명 상권업종대분류코드 상권업종대분류명 상권업종중분류코드  상권업종중분류명  \\\n",
       "0  28523551  엘가커피부산아시아드점  부산아시아드점         Q       음식       Q12    커피점/카페   \n",
       "1  28498271    비비안아울렛중계점   아울렛중계점         D       소매       D05      의복의류   \n",
       "2  28512174  연세정신건강의학과의원      NaN         S       의료       S01        병원   \n",
       "3  28499926  독일지멘스보청기은평점      은평점         D       소매       D20  의약/의료품소매   \n",
       "4  28490321         서울모드      NaN         Q       음식       Q12    커피점/카페   \n",
       "\n",
       "  상권업종소분류코드     상권업종소분류명 표준산업분류코드  ...                     건물관리번호  \\\n",
       "0    Q12A01  커피전문점/카페/다방   I56220  ...  2647010100111980000009422   \n",
       "1    D05A07     셔츠/내의/속옷      NaN  ...  1135010600105090000010511   \n",
       "2    S01B99         기타병원      NaN  ...  1111017400102990000005842   \n",
       "3    D20A02        보청기판매   G47812  ...  1138010300102810108040063   \n",
       "4    Q12A01  커피전문점/카페/다방   I56220  ...  1168010700105170027011767   \n",
       "\n",
       "               건물명                  도로명주소   구우편번호    신우편번호  동정보 층정보  호정보  \\\n",
       "0  부산아시아드주경기장노외주차장     부산광역시 연제구 종합운동장로 7  611070  47500.0  NaN   1  NaN   \n",
       "1          2001아울렛  서울특별시 노원구 동일로204가길 46  139726   1783.0  NaN   3  NaN   \n",
       "2            유림문화사     서울특별시 종로구 종로 335-3  110540   3104.0  NaN   2  NaN   \n",
       "3              NaN      서울특별시 은평구 통일로 732  122040   3368.0  NaN   2  NaN   \n",
       "4             SM빌딩   서울특별시 강남구 도산대로11길 29  135888   6034.0  NaN   1  NaN   \n",
       "\n",
       "           경도         위도  \n",
       "0  129.062034  35.191284  \n",
       "1  127.067888  37.641280  \n",
       "2  127.014500  37.573196  \n",
       "3  126.929871  37.610888  \n",
       "4  127.022212  37.519315  \n",
       "\n",
       "[5 rows x 39 columns]"
      ]
     },
     "execution_count": 4,
     "metadata": {},
     "output_type": "execute_result"
    }
   ],
   "source": [
    "shop_2018 = pd.read_csv('data/소상공인시장진흥공단_상가업소정보_201806_01.csv', encoding='cp949')\n",
    "shop_2018.head()"
   ]
  },
  {
   "cell_type": "code",
   "execution_count": 5,
   "metadata": {
    "scrolled": false
   },
   "outputs": [
    {
     "data": {
      "text/plain": [
       "(476183, 39)"
      ]
     },
     "execution_count": 5,
     "metadata": {},
     "output_type": "execute_result"
    }
   ],
   "source": [
    "shop_2018.shape"
   ]
  },
  {
   "cell_type": "code",
   "execution_count": 6,
   "metadata": {
    "scrolled": true
   },
   "outputs": [
    {
     "data": {
      "text/plain": [
       "Index(['상가업소번호', '상호명', '지점명', '상권업종대분류코드', '상권업종대분류명', '상권업종중분류코드',\n",
       "       '상권업종중분류명', '상권업종소분류코드', '상권업종소분류명', '표준산업분류코드', '표준산업분류명', '시도코드',\n",
       "       '시도명', '시군구코드', '시군구명', '행정동코드', '행정동명', '법정동코드', '법정동명', '지번코드',\n",
       "       '대지구분코드', '대지구분명', '지번본번지', '지번부번지', '지번주소', '도로명코드', '도로명', '건물본번지',\n",
       "       '건물부번지', '건물관리번호', '건물명', '도로명주소', '구우편번호', '신우편번호', '동정보', '층정보',\n",
       "       '호정보', '경도', '위도'],\n",
       "      dtype='object')"
      ]
     },
     "execution_count": 6,
     "metadata": {},
     "output_type": "execute_result"
    }
   ],
   "source": [
    "shop_2018.columns"
   ]
  },
  {
   "cell_type": "markdown",
   "metadata": {},
   "source": [
    "# '커피' 글자가 포함된 데이타로 데이타프레임 생성하기 \n",
    "\n",
    "데이타프레임명 = shop_2018[shop_2018['상권업종소분류명'].str.contains('커피')]\n"
   ]
  },
  {
   "cell_type": "markdown",
   "metadata": {},
   "source": [
    "coffee = shop_2018[shop_2018['상권업종소분류명'].str.contains('커피')]\n",
    "coffee.shape"
   ]
  },
  {
   "cell_type": "code",
   "execution_count": 7,
   "metadata": {},
   "outputs": [
    {
     "data": {
      "text/plain": [
       "(18759, 39)"
      ]
     },
     "execution_count": 7,
     "metadata": {},
     "output_type": "execute_result"
    }
   ],
   "source": [
    "coffee = shop_2018[shop_2018['상권업종소분류명'].str.contains('커피')]\n",
    "coffee.shape"
   ]
  },
  {
   "cell_type": "code",
   "execution_count": 8,
   "metadata": {
    "scrolled": false
   },
   "outputs": [
    {
     "data": {
      "text/plain": [
       "Index(['상가업소번호', '상호명', '지점명', '상권업종대분류코드', '상권업종대분류명', '상권업종중분류코드',\n",
       "       '상권업종중분류명', '상권업종소분류코드', '상권업종소분류명', '표준산업분류코드', '표준산업분류명', '시도코드',\n",
       "       '시도명', '시군구코드', '시군구명', '행정동코드', '행정동명', '법정동코드', '법정동명', '지번코드',\n",
       "       '대지구분코드', '대지구분명', '지번본번지', '지번부번지', '지번주소', '도로명코드', '도로명', '건물본번지',\n",
       "       '건물부번지', '건물관리번호', '건물명', '도로명주소', '구우편번호', '신우편번호', '동정보', '층정보',\n",
       "       '호정보', '경도', '위도'],\n",
       "      dtype='object')"
      ]
     },
     "execution_count": 8,
     "metadata": {},
     "output_type": "execute_result"
    }
   ],
   "source": [
    "coffee.columns"
   ]
  },
  {
   "cell_type": "code",
   "execution_count": 9,
   "metadata": {},
   "outputs": [
    {
     "data": {
      "text/html": [
       "<div>\n",
       "<style scoped>\n",
       "    .dataframe tbody tr th:only-of-type {\n",
       "        vertical-align: middle;\n",
       "    }\n",
       "\n",
       "    .dataframe tbody tr th {\n",
       "        vertical-align: top;\n",
       "    }\n",
       "\n",
       "    .dataframe thead th {\n",
       "        text-align: right;\n",
       "    }\n",
       "</style>\n",
       "<table border=\"1\" class=\"dataframe\">\n",
       "  <thead>\n",
       "    <tr style=\"text-align: right;\">\n",
       "      <th></th>\n",
       "      <th>상가업소번호</th>\n",
       "      <th>상호명</th>\n",
       "      <th>지점명</th>\n",
       "      <th>상권업종대분류코드</th>\n",
       "      <th>상권업종대분류명</th>\n",
       "      <th>상권업종중분류코드</th>\n",
       "      <th>상권업종중분류명</th>\n",
       "      <th>상권업종소분류코드</th>\n",
       "      <th>상권업종소분류명</th>\n",
       "      <th>표준산업분류코드</th>\n",
       "      <th>...</th>\n",
       "      <th>건물관리번호</th>\n",
       "      <th>건물명</th>\n",
       "      <th>도로명주소</th>\n",
       "      <th>구우편번호</th>\n",
       "      <th>신우편번호</th>\n",
       "      <th>동정보</th>\n",
       "      <th>층정보</th>\n",
       "      <th>호정보</th>\n",
       "      <th>경도</th>\n",
       "      <th>위도</th>\n",
       "    </tr>\n",
       "  </thead>\n",
       "  <tbody>\n",
       "    <tr>\n",
       "      <th>0</th>\n",
       "      <td>28523551</td>\n",
       "      <td>엘가커피부산아시아드점</td>\n",
       "      <td>부산아시아드점</td>\n",
       "      <td>Q</td>\n",
       "      <td>음식</td>\n",
       "      <td>Q12</td>\n",
       "      <td>커피점/카페</td>\n",
       "      <td>Q12A01</td>\n",
       "      <td>커피전문점/카페/다방</td>\n",
       "      <td>I56220</td>\n",
       "      <td>...</td>\n",
       "      <td>2647010100111980000009422</td>\n",
       "      <td>부산아시아드주경기장노외주차장</td>\n",
       "      <td>부산광역시 연제구 종합운동장로 7</td>\n",
       "      <td>611070</td>\n",
       "      <td>47500.0</td>\n",
       "      <td>NaN</td>\n",
       "      <td>1</td>\n",
       "      <td>NaN</td>\n",
       "      <td>129.062034</td>\n",
       "      <td>35.191284</td>\n",
       "    </tr>\n",
       "    <tr>\n",
       "      <th>4</th>\n",
       "      <td>28490321</td>\n",
       "      <td>서울모드</td>\n",
       "      <td>NaN</td>\n",
       "      <td>Q</td>\n",
       "      <td>음식</td>\n",
       "      <td>Q12</td>\n",
       "      <td>커피점/카페</td>\n",
       "      <td>Q12A01</td>\n",
       "      <td>커피전문점/카페/다방</td>\n",
       "      <td>I56220</td>\n",
       "      <td>...</td>\n",
       "      <td>1168010700105170027011767</td>\n",
       "      <td>SM빌딩</td>\n",
       "      <td>서울특별시 강남구 도산대로11길 29</td>\n",
       "      <td>135888</td>\n",
       "      <td>6034.0</td>\n",
       "      <td>NaN</td>\n",
       "      <td>1</td>\n",
       "      <td>NaN</td>\n",
       "      <td>127.022212</td>\n",
       "      <td>37.519315</td>\n",
       "    </tr>\n",
       "    <tr>\n",
       "      <th>19</th>\n",
       "      <td>19911397</td>\n",
       "      <td>커피빈코리아선릉로93길점</td>\n",
       "      <td>코리아선릉로93길점</td>\n",
       "      <td>Q</td>\n",
       "      <td>음식</td>\n",
       "      <td>Q12</td>\n",
       "      <td>커피점/카페</td>\n",
       "      <td>Q12A01</td>\n",
       "      <td>커피전문점/카페/다방</td>\n",
       "      <td>I56220</td>\n",
       "      <td>...</td>\n",
       "      <td>1168010100106960042022041</td>\n",
       "      <td>NaN</td>\n",
       "      <td>서울특별시 강남구 선릉로93길 6</td>\n",
       "      <td>135080</td>\n",
       "      <td>6149.0</td>\n",
       "      <td>NaN</td>\n",
       "      <td>1</td>\n",
       "      <td>NaN</td>\n",
       "      <td>127.047883</td>\n",
       "      <td>37.505675</td>\n",
       "    </tr>\n",
       "    <tr>\n",
       "      <th>25</th>\n",
       "      <td>20020124</td>\n",
       "      <td>스완카페트</td>\n",
       "      <td>NaN</td>\n",
       "      <td>Q</td>\n",
       "      <td>음식</td>\n",
       "      <td>Q12</td>\n",
       "      <td>커피점/카페</td>\n",
       "      <td>Q12A01</td>\n",
       "      <td>커피전문점/카페/다방</td>\n",
       "      <td>I56220</td>\n",
       "      <td>...</td>\n",
       "      <td>1156013300106040056037792</td>\n",
       "      <td>NaN</td>\n",
       "      <td>서울특별시 영등포구 도신로10가길 11-1</td>\n",
       "      <td>150070</td>\n",
       "      <td>7379.0</td>\n",
       "      <td>NaN</td>\n",
       "      <td>2</td>\n",
       "      <td>NaN</td>\n",
       "      <td>126.897710</td>\n",
       "      <td>37.503693</td>\n",
       "    </tr>\n",
       "    <tr>\n",
       "      <th>34</th>\n",
       "      <td>19973708</td>\n",
       "      <td>왕실</td>\n",
       "      <td>NaN</td>\n",
       "      <td>Q</td>\n",
       "      <td>음식</td>\n",
       "      <td>Q12</td>\n",
       "      <td>커피점/카페</td>\n",
       "      <td>Q12A01</td>\n",
       "      <td>커피전문점/카페/다방</td>\n",
       "      <td>I56220</td>\n",
       "      <td>...</td>\n",
       "      <td>1114012700101050000019781</td>\n",
       "      <td>NaN</td>\n",
       "      <td>서울특별시 중구 남대문로 52-13</td>\n",
       "      <td>100810</td>\n",
       "      <td>4535.0</td>\n",
       "      <td>NaN</td>\n",
       "      <td>1</td>\n",
       "      <td>NaN</td>\n",
       "      <td>126.982419</td>\n",
       "      <td>37.562274</td>\n",
       "    </tr>\n",
       "  </tbody>\n",
       "</table>\n",
       "<p>5 rows × 39 columns</p>\n",
       "</div>"
      ],
      "text/plain": [
       "      상가업소번호            상호명         지점명 상권업종대분류코드 상권업종대분류명 상권업종중분류코드 상권업종중분류명  \\\n",
       "0   28523551    엘가커피부산아시아드점     부산아시아드점         Q       음식       Q12   커피점/카페   \n",
       "4   28490321           서울모드         NaN         Q       음식       Q12   커피점/카페   \n",
       "19  19911397  커피빈코리아선릉로93길점  코리아선릉로93길점         Q       음식       Q12   커피점/카페   \n",
       "25  20020124          스완카페트         NaN         Q       음식       Q12   커피점/카페   \n",
       "34  19973708             왕실         NaN         Q       음식       Q12   커피점/카페   \n",
       "\n",
       "   상권업종소분류코드     상권업종소분류명 표준산업분류코드  ...                     건물관리번호  \\\n",
       "0     Q12A01  커피전문점/카페/다방   I56220  ...  2647010100111980000009422   \n",
       "4     Q12A01  커피전문점/카페/다방   I56220  ...  1168010700105170027011767   \n",
       "19    Q12A01  커피전문점/카페/다방   I56220  ...  1168010100106960042022041   \n",
       "25    Q12A01  커피전문점/카페/다방   I56220  ...  1156013300106040056037792   \n",
       "34    Q12A01  커피전문점/카페/다방   I56220  ...  1114012700101050000019781   \n",
       "\n",
       "                건물명                    도로명주소   구우편번호    신우편번호  동정보 층정보  호정보  \\\n",
       "0   부산아시아드주경기장노외주차장       부산광역시 연제구 종합운동장로 7  611070  47500.0  NaN   1  NaN   \n",
       "4              SM빌딩     서울특별시 강남구 도산대로11길 29  135888   6034.0  NaN   1  NaN   \n",
       "19              NaN       서울특별시 강남구 선릉로93길 6  135080   6149.0  NaN   1  NaN   \n",
       "25              NaN  서울특별시 영등포구 도신로10가길 11-1  150070   7379.0  NaN   2  NaN   \n",
       "34              NaN      서울특별시 중구 남대문로 52-13  100810   4535.0  NaN   1  NaN   \n",
       "\n",
       "            경도         위도  \n",
       "0   129.062034  35.191284  \n",
       "4   127.022212  37.519315  \n",
       "19  127.047883  37.505675  \n",
       "25  126.897710  37.503693  \n",
       "34  126.982419  37.562274  \n",
       "\n",
       "[5 rows x 39 columns]"
      ]
     },
     "execution_count": 9,
     "metadata": {},
     "output_type": "execute_result"
    }
   ],
   "source": [
    "coffee.head()"
   ]
  },
  {
   "cell_type": "markdown",
   "metadata": {},
   "source": [
    "### 커피관련 상호명 확인하기 "
   ]
  },
  {
   "cell_type": "code",
   "execution_count": 10,
   "metadata": {
    "scrolled": true
   },
   "outputs": [
    {
     "data": {
      "text/plain": [
       "array(['엘가커피부산아시아드점', '서울모드', '커피빈코리아선릉로93길점', ..., '알콩커피', '프라빈커피',\n",
       "       '돌담커피'], dtype=object)"
      ]
     },
     "execution_count": 10,
     "metadata": {},
     "output_type": "execute_result"
    }
   ],
   "source": [
    "coffee['상호명'].unique()"
   ]
  },
  {
   "cell_type": "code",
   "execution_count": 8,
   "metadata": {
    "scrolled": true
   },
   "outputs": [
    {
     "data": {
      "text/plain": [
       "(13472,)"
      ]
     },
     "execution_count": 8,
     "metadata": {},
     "output_type": "execute_result"
    }
   ],
   "source": [
    "# 상호명으로 봤을 때 커피점이 12472개가 있다.\n",
    "coffee['상호명'].unique().shape"
   ]
  },
  {
   "cell_type": "markdown",
   "metadata": {},
   "source": [
    "## 스타벅스 데이타만 추출하기 "
   ]
  },
  {
   "cell_type": "markdown",
   "metadata": {},
   "source": [
    "coffee.loc[coffee['상호명'].str.contains('스타벅스')].head()"
   ]
  },
  {
   "cell_type": "code",
   "execution_count": 11,
   "metadata": {},
   "outputs": [
    {
     "data": {
      "text/plain": [
       "(537, 39)"
      ]
     },
     "execution_count": 11,
     "metadata": {},
     "output_type": "execute_result"
    }
   ],
   "source": [
    "coffee.loc[coffee['상호명'].str.contains('스타벅스')].shape"
   ]
  },
  {
   "cell_type": "markdown",
   "metadata": {},
   "source": [
    "## 스타벅스 상호명 목록 확인하기 "
   ]
  },
  {
   "cell_type": "markdown",
   "metadata": {
    "scrolled": true
   },
   "source": [
    "coffee.loc[coffee['상호명'].str.contains('스타벅스'), '상호명'].unique()"
   ]
  },
  {
   "cell_type": "code",
   "execution_count": 13,
   "metadata": {
    "scrolled": true
   },
   "outputs": [
    {
     "data": {
      "text/plain": [
       "array(['스타벅스종로3가점', '스타벅스커피여의도IFC1F', '스타벅스', '스타벅스신림사거리점', '스타벅스커피홍대역',\n",
       "       '스타벅스새문안로점', '스타벅스올림픽평화의문점', '스타벅스연신내역', '스타벅스가락시장역점', '스타벅스외대점',\n",
       "       '스타벅스연세백양로점', '스타벅스명지대점', '스타벅스석촌역', '스타벅스연대동문', '스타벅스압구정로데오역',\n",
       "       '스타벅스서울대입구역점', '스타벅스신림점', '스타벅스강남삼성타운점', '스타벅스사당점', '스타벅스광장점',\n",
       "       '스타벅스신촌명물거리점', '스타벅스명동미래', '스타벅스건국클래식점', '스타벅스연희DT점', '스타벅스삼선교점',\n",
       "       '스타벅스올림픽공원북문점', '스타벅스커피여의도호성', '스타벅스충정타워', '스타벅스종각점', '스타벅스방배카페입구',\n",
       "       '스타벅스이수역점', '스타벅스W-MALL점', '스타벅스천호로데오점', '스타벅스마포일진빌딩점', '스타벅스용산역점',\n",
       "       '스타벅스명동메트로', '스타벅스중계역점', '스타벅스마포아크로타워점', '스타벅스남부터미널2점',\n",
       "       '스타벅스중랑구청점', '스타벅스구로디지털로점', '스타벅스논현힐탑', '스타벅스종로관수점', '스타벅스삼성도심공항점',\n",
       "       '스타벅스부산서면', '스타벅스종로2가점', '스타벅스선정릉역점', '스타벅스미아역점', '스타벅스선릉로점',\n",
       "       '스타벅스역삼럭키', '스타벅스커피신도림디큐브시티B2', '스타벅스이태원거리점', '스타벅스구로에이스트윈타워1점',\n",
       "       '스타벅스을지로입구', '스타벅스교대역점', '스타벅스서울중앙우체국점', '스타벅스남산스테이트',\n",
       "       '스타벅스구로하이엔드점', '스타벅스명일이마트점', '스타벅스조선호텔후문', '스타벅스목동점', '스타벅스삼성교점',\n",
       "       '스타벅스서울교대점', '스타벅스커리학동사거리점', '스타벅스강북구청사거리점', '스타벅스청담사거리점',\n",
       "       '스타벅스방이역점', '스타벅스종로평창', '스타벅스서초파라곤점', '스타벅스강변역점', '스타벅스올림픽공원남문점',\n",
       "       '스타벅스신압구정점', '스타벅스명동중앙로', '스타벅스광화문역점', '스타벅스서소문배재', '스타벅스세종로점',\n",
       "       '스타벅스커피가산그레이트', '스타벅스여의도점', '스타벅스경복궁역', '스타벅스을지로센타', '스타벅스예술의전당점',\n",
       "       '스타벅스중랑역점', '스타벅스상봉역점', '스타벅스학여울점', '스타벅스사당로데오점', '스타벅스구파발역점',\n",
       "       '스타벅스숙대입구역점', '스타벅스금정이마트점', '스타벅스신천역점', '스타벅스서면센트럴스퀘어점',\n",
       "       '스타벅스커피신도림디큐브시티2F', '스타벅스서면중앙점', '스타벅스가든파이브', '스타벅스커피가산브이타워',\n",
       "       '스타벅스동교삼거리점', '스타벅스차병원사거리점', '스타벅스뱅뱅사거리점', '스타벅스센텀신세계B1',\n",
       "       '스타벅스경복아파트점', '스타벅스석촌서호점', '스타벅스동교점', '스타벅스월계이마트점', '스타벅스구산역점',\n",
       "       '스타벅스광화문점', '스타벅스상일동점', '스타벅스신촌점', '스타벅스상암DMC센트럴몰점', '스타벅스삼청동점',\n",
       "       '스타벅스숭실대점', '스타벅스역삼역점', '스타벅스대치점', '스타벅스홍대삼거리점', '스타벅스석촌호수점',\n",
       "       '스타벅스홍대갤러리점', '스타벅스광운대점', '스타벅스목동5단지점', '스타벅스청량리역점', '스타벅스합정메세나몰점',\n",
       "       '스타벅스숙대점', '스타벅스서소문배재점', '스타벅스부산서면점', '스타벅스센텀그린타워점', '스타벅스서교점',\n",
       "       '스타벅스가산디지털단지점', '스타벅스금천독산점', '스타벅스길동사거리점', '스타벅스노원케이티점',\n",
       "       '스타벅스오목교역점', '스타벅스잠실점', '스타벅스한성대입구역점', '스타벅스송파사거리점', '스타벅스하단역점',\n",
       "       '스타벅스코엑스사거리점', '스타벅스황학캐슬점', '스타벅스고대프라자점', '스타벅스명동역점', '스타벅스부산초량점',\n",
       "       '스타벅스강남에비뉴점', 'PPANGJIP(스타벅스재능기부카페2호점)', '스타벅스센텀KNN점',\n",
       "       '스타벅스월드컵경기장점', '스타벅스압구정로데오역점', '스타벅스연신내역점', '스타벅스상암디지털큐브점상암디지털큐브점',\n",
       "       '스타벅스명동길점', '스타벅스마포트라팰점', '스타벅스종로수송점', '스타벅스방배카페입구점',\n",
       "       '스타벅스엔터식스한양대점', '스타벅스동묘앞역점동묘앞역점', '스타벅스신설동역점', '스타벅스화곡동점',\n",
       "       '스타벅스포스코사거리점', '스타벅스종암점', '스타벅스마포이마트점', '스타벅스현대디큐브B2점',\n",
       "       '스타벅스숭실대입구역점', '스타벅스약수역점', '스타벅스회현역점', '스타벅스명동입구점', '스타벅스신촌오거리점',\n",
       "       '스타벅스염창역점', '스타벅스서교동사거리점', '스타벅스부산교대역점', '스타벅스역삼럭키점', '스타벅스동여의도점',\n",
       "       '스타벅스소공로북창점', '스타벅스청계산입구역점', '스타벅스송파방이DT점', '스타벅스둔촌동점',\n",
       "       '스타벅스동의대역점동의대역점', '스타벅스해운대점', '스타벅스명지오션시티점', '스타벅스미아사거리역점',\n",
       "       '스타벅스가산디지털단지역점', '스타벅스압구정점', '스타벅스영등포신길DT점', '스타벅스대치사거리점',\n",
       "       '스타벅스중구저동점', '스타벅스부산프리미엄점', '스타벅스충정타워점', '스타벅스강동역점',\n",
       "       '스타벅스대치은마사거리점', '스타벅스부산재송DT점', '스타벅스한남동점', '스타벅스성신여대정문',\n",
       "       '스타벅스낙성대DT점', '스타벅스양천향교역점', '스타벅스강남우성점', '스타벅스광안비치점', '스타벅스커피마포염리',\n",
       "       '스타벅스화곡DT점', '스타벅스동부산DT', '스타벅스합정점', '스타벅스을숙도강변DT점', '스타벅스서면NC점',\n",
       "       '스타벅스신세계본점', '스타벅스송파구청점', '스타벅스신사가로수점', '스타벅스신세계본점5F',\n",
       "       '스타벅스경희대삼거리점', '스타벅스문정역점', '스타벅스황학사거리점', '스타벅스서강대흥역점', '스타벅스사직구장점',\n",
       "       '스타벅스서강광흥창역점', '스타벅스서울대역점', '스타벅스청담영동대로점', '스타벅스송파위례점',\n",
       "       '스타벅스연산시티타워점', '스타벅스문정하비오점', '스타벅스강남점', '스타벅스커피강남대로신사',\n",
       "       '스타벅스잠실대교남단점', '스타벅스자갈치역점', '스타벅스구로디지털타워점', '스타벅스동명대DT점',\n",
       "       '스타벅스강남오거리점', '스타벅스국제시장점', '스타벅스공릉역점', '스타벅스이수역사거리점', '스타벅스외대정문점',\n",
       "       '스타벅스노원마들역점', '스타벅스마곡나루역점', '스타벅스신대방삼거리역점', '스타벅스방화DT', '스타벅스신도림점',\n",
       "       '스타벅스역점', '스타벅스공덕'], dtype=object)"
      ]
     },
     "execution_count": 13,
     "metadata": {},
     "output_type": "execute_result"
    }
   ],
   "source": [
    "coffee.loc[coffee['상호명'].str.contains('스타벅스'), '상호명'].unique()"
   ]
  },
  {
   "cell_type": "markdown",
   "metadata": {},
   "source": [
    "len(coffee.loc[coffee['상호명'].str.contains('스타벅스'), '상호명'].unique())"
   ]
  },
  {
   "cell_type": "code",
   "execution_count": 14,
   "metadata": {},
   "outputs": [
    {
     "data": {
      "text/plain": [
       "229"
      ]
     },
     "execution_count": 14,
     "metadata": {},
     "output_type": "execute_result"
    }
   ],
   "source": [
    "len(coffee.loc[coffee['상호명'].str.contains('스타벅스'), '상호명'].unique())"
   ]
  },
  {
   "cell_type": "markdown",
   "metadata": {},
   "source": [
    "## 지역 확인하기 - 시도명, 시군구명"
   ]
  },
  {
   "cell_type": "code",
   "execution_count": 16,
   "metadata": {
    "scrolled": true
   },
   "outputs": [
    {
     "data": {
      "text/plain": [
       "서울특별시    14662\n",
       "부산광역시     4097\n",
       "Name: 시도명, dtype: int64"
      ]
     },
     "execution_count": 16,
     "metadata": {},
     "output_type": "execute_result"
    }
   ],
   "source": [
    "coffee['시도명'].value_counts()"
   ]
  },
  {
   "cell_type": "code",
   "execution_count": 18,
   "metadata": {},
   "outputs": [
    {
     "data": {
      "text/plain": [
       "array(['부산광역시', '서울특별시'], dtype=object)"
      ]
     },
     "execution_count": 18,
     "metadata": {},
     "output_type": "execute_result"
    }
   ],
   "source": [
    "coffee['시도명'].unique()"
   ]
  },
  {
   "cell_type": "markdown",
   "metadata": {},
   "source": [
    "coffee['시군구명'].value_counts()"
   ]
  },
  {
   "cell_type": "markdown",
   "metadata": {
    "scrolled": true
   },
   "source": [
    "coffee['시군구명'].unique()"
   ]
  },
  {
   "cell_type": "markdown",
   "metadata": {},
   "source": [
    "## '커피' 가 포함된 데이타의 상권업종중분류명 확인하기 "
   ]
  },
  {
   "cell_type": "code",
   "execution_count": 20,
   "metadata": {
    "collapsed": true
   },
   "outputs": [
    {
     "data": {
      "text/plain": [
       "커피점/카페    18759\n",
       "Name: 상권업종중분류명, dtype: int64"
      ]
     },
     "execution_count": 20,
     "metadata": {},
     "output_type": "execute_result"
    }
   ],
   "source": [
    "coffee['상권업종중분류명'].value_counts()"
   ]
  },
  {
   "cell_type": "markdown",
   "metadata": {},
   "source": [
    "# --------------------"
   ]
  },
  {
   "cell_type": "markdown",
   "metadata": {},
   "source": [
    "# '서울' 지역의 데이타프레임 생성하기"
   ]
  },
  {
   "cell_type": "markdown",
   "metadata": {},
   "source": [
    "### 시도명 컬럼값에서 서울로 시작하는 데이타만 추출해서 새로운 데이타프레임 생성하기 \n",
    "\n",
    "데이타프레임명2 = 데이타프레임명1.loc[데이타프레임명1['시도명'].str.startswith(키워드)].copy()"
   ]
  },
  {
   "cell_type": "markdown",
   "metadata": {},
   "source": [
    "df_seoul = shop_2018.loc[shop_2018['시도명'].str.startswith('서울')].copy()\n",
    "df_seoul.shape"
   ]
  },
  {
   "cell_type": "code",
   "execution_count": 15,
   "metadata": {},
   "outputs": [
    {
     "data": {
      "text/plain": [
       "(330089, 39)"
      ]
     },
     "execution_count": 15,
     "metadata": {},
     "output_type": "execute_result"
    }
   ],
   "source": [
    "df_seoul = shop_2018.loc[shop_2018['시도명'].str.startswith('서울')].copy()\n",
    "df_seoul.shape"
   ]
  },
  {
   "cell_type": "markdown",
   "metadata": {},
   "source": [
    "## 결측치 확인하기"
   ]
  },
  {
   "cell_type": "markdown",
   "metadata": {},
   "source": [
    "df_seoul.isnull().sum()"
   ]
  },
  {
   "cell_type": "markdown",
   "metadata": {},
   "source": [
    "## 상권업종 확인하기 "
   ]
  },
  {
   "cell_type": "markdown",
   "metadata": {
    "scrolled": true
   },
   "source": [
    "df_seoul['상권업종대분류명'].value_counts()"
   ]
  },
  {
   "cell_type": "markdown",
   "metadata": {},
   "source": [
    "## 서울의 위도, 경도 데이타 정보 확인하기 "
   ]
  },
  {
   "cell_type": "markdown",
   "metadata": {},
   "source": [
    "df_seoul[['위도', '경도']].describe(include=np.number)"
   ]
  },
  {
   "cell_type": "markdown",
   "metadata": {},
   "source": [
    "## seanborn을 이용한 시각화"
   ]
  },
  {
   "cell_type": "markdown",
   "metadata": {},
   "source": [
    "### 서울의 상권업종 countplot"
   ]
  },
  {
   "cell_type": "code",
   "execution_count": 27,
   "metadata": {
    "scrolled": true
   },
   "outputs": [
    {
     "data": {
      "text/plain": [
       "<matplotlib.axes._subplots.AxesSubplot at 0x26d43d006d8>"
      ]
     },
     "execution_count": 27,
     "metadata": {},
     "output_type": "execute_result"
    },
    {
     "data": {
      "image/png": "[encoded data removed]",
      "text/plain": [
       "<Figure size 432x288 with 1 Axes>"
      ]
     },
     "metadata": {
      "needs_background": "light"
     },
     "output_type": "display_data"
    }
   ],
   "source": [
    "sns.countplot(data=df_seoul, y=\"상권업종대분류명\")"
   ]
  },
  {
   "cell_type": "markdown",
   "metadata": {},
   "source": [
    "## 서울의 음식 상권 분석과 시각화"
   ]
  },
  {
   "cell_type": "code",
   "execution_count": 35,
   "metadata": {},
   "outputs": [
    {
     "data": {
      "text/plain": [
       "array(['소매', '의료', '음식', '생활서비스', '숙박', '학문/교육', '관광/여가/오락', '부동산', '스포츠'],\n",
       "      dtype=object)"
      ]
     },
     "execution_count": 35,
     "metadata": {},
     "output_type": "execute_result"
    }
   ],
   "source": [
    "df_seoul['상권업종대분류명'].unique()"
   ]
  },
  {
   "cell_type": "markdown",
   "metadata": {},
   "source": [
    "df_food = df_seoul.loc[df_seoul['상권업종대분류명'].str.contains('음식')]\n",
    "df_food.shape"
   ]
  },
  {
   "cell_type": "code",
   "execution_count": 32,
   "metadata": {},
   "outputs": [
    {
     "data": {
      "text/plain": [
       "(109766, 39)"
      ]
     },
     "execution_count": 32,
     "metadata": {},
     "output_type": "execute_result"
    }
   ],
   "source": [
    "df_food = df_seoul.loc[df_seoul['상권업종대분류명'].str.contains('음식')]\n",
    "df_food.shape"
   ]
  },
  {
   "cell_type": "code",
   "execution_count": 33,
   "metadata": {
    "scrolled": true
   },
   "outputs": [
    {
     "data": {
      "text/plain": [
       "<matplotlib.axes._subplots.AxesSubplot at 0x26d5e81dc88>"
      ]
     },
     "execution_count": 33,
     "metadata": {},
     "output_type": "execute_result"
    },
    {
     "data": {
      "image/png": "[encoded data removed]",
      "text/plain": [
       "<Figure size 432x288 with 1 Axes>"
      ]
     },
     "metadata": {
      "needs_background": "light"
     },
     "output_type": "display_data"
    }
   ],
   "source": [
    "sns.countplot(data=df_food, y=\"상권업종중분류명\")"
   ]
  },
  {
   "cell_type": "markdown",
   "metadata": {},
   "source": [
    "## 퀴즈\n",
    "\n",
    "- '상권업종중분류명'이 '패스트푸드'인 데이타프레임 df_fastFood 을 정의하여라 \n",
    "- '상권업종중분류명'이 '패스트푸드'인 데이타프레임의 상호명은 모두 몇개인가?\n",
    "- '상권업종중분류명'이 '패스트푸드'인 데이타프레임에서 가장 많은 상호명은?\n",
    "- 서울에 있는 '피자'가 포함된 상호명 목록을 출력하여라\n",
    "- 서울 강남구에 있는 도미노피자의 지점명을 모두 출력하여라 "
   ]
  },
  {
   "cell_type": "code",
   "execution_count": null,
   "metadata": {},
   "outputs": [],
   "source": []
  },
  {
   "cell_type": "markdown",
   "metadata": {},
   "source": [
    "df_fast_food = df_food.loc[df_food['상권업종중분류명'] == '패스트푸드']\n",
    "df_fast_food.shape"
   ]
  },
  {
   "cell_type": "code",
   "execution_count": 36,
   "metadata": {},
   "outputs": [
    {
     "data": {
      "text/plain": [
       "(4605, 39)"
      ]
     },
     "execution_count": 36,
     "metadata": {},
     "output_type": "execute_result"
    }
   ],
   "source": [
    "df_fast_food = df_food.loc[df_food['상권업종중분류명'] == '패스트푸드']\n",
    "df_fast_food.shape"
   ]
  },
  {
   "cell_type": "code",
   "execution_count": 39,
   "metadata": {},
   "outputs": [
    {
     "data": {
      "text/plain": [
       "array(['피자마루', '롯데리아', '배스킨라빈스', ..., '브리웰', '베이크럽', '델리'], dtype=object)"
      ]
     },
     "execution_count": 39,
     "metadata": {},
     "output_type": "execute_result"
    }
   ],
   "source": [
    "df_fast_food['상호명'].unique()"
   ]
  },
  {
   "cell_type": "code",
   "execution_count": 40,
   "metadata": {},
   "outputs": [
    {
     "data": {
      "text/plain": [
       "(2747,)"
      ]
     },
     "execution_count": 40,
     "metadata": {},
     "output_type": "execute_result"
    }
   ],
   "source": [
    "df_fast_food['상호명'].unique().shape"
   ]
  },
  {
   "cell_type": "code",
   "execution_count": 44,
   "metadata": {
    "scrolled": false
   },
   "outputs": [
    {
     "data": {
      "text/plain": [
       "피자스쿨                   106\n",
       "배스킨라빈스31               101\n",
       "던킨도너츠                   83\n",
       "롯데리아                    72\n",
       "도미노피자                   62\n",
       "피자마루                    59\n",
       "한솥                      56\n",
       "베스킨라빈스                  54\n",
       "버거킹                     53\n",
       "이삭토스트                   53\n",
       "59피자                    50\n",
       "한솥도시락                   46\n",
       "맥도날드                    45\n",
       "배스킨라빈스                  40\n",
       "본도시락                    37\n",
       "파파존스피자                  35\n",
       "피자헛                     35\n",
       "피자나라치킨공주                34\n",
       "미스터피자                   33\n",
       "봉구스밥버거                  31\n",
       "써브웨이                    28\n",
       "피자알볼로                   27\n",
       "명랑핫도그                   24\n",
       "명랑시대쌀핫도그                24\n",
       "맘스터치                    20\n",
       "서브웨이                    19\n",
       "죠샌드위치                   17\n",
       "빨간모자피자                  16\n",
       "피자애                     16\n",
       "피자에땅                    16\n",
       "                      ... \n",
       "버거킹고대중앙광장점               1\n",
       "롯데리아인재개발센타               1\n",
       "롯데리아강남우성사거리점             1\n",
       "자니로켓현대카드점                1\n",
       "피자꾼떡전교점                  1\n",
       "ABC치킨앤러브러브피자             1\n",
       "수프앤베이글                   1\n",
       "유스피자                     1\n",
       "피자헛오금점                   1\n",
       "와플대학미아캠퍼스                1\n",
       "훈피자                      1\n",
       "피자샵장위.월계점                1\n",
       "데어리퀸                     1\n",
       "애니스토리                    1\n",
       "피자스쿨난곡파로스점               1\n",
       "핏제리아디부자                  1\n",
       "피자버프                     1\n",
       "스시야벤또                    1\n",
       "진영푸드                     1\n",
       "토니버거위례아이파크점              1\n",
       "도마니피자                    1\n",
       "고스트피자                    1\n",
       "엄토스트                     1\n",
       "이삭토스트방이역점                1\n",
       "쓰리팝PC방                   1\n",
       "임실엔치즈피자                  1\n",
       "배스킨라빈스서울베이비키즈페어임시부스      1\n",
       "59쌀                      1\n",
       "더레드339                   1\n",
       "피자마루역촌시립병원점              1\n",
       "Name: 상호명, Length: 2747, dtype: int64"
      ]
     },
     "execution_count": 44,
     "metadata": {},
     "output_type": "execute_result"
    }
   ],
   "source": [
    "df_fast_food['상호명'].value_counts()"
   ]
  },
  {
   "cell_type": "code",
   "execution_count": 53,
   "metadata": {
    "scrolled": true
   },
   "outputs": [
    {
     "data": {
      "text/plain": [
       "상호명    106\n",
       "Name: 피자스쿨, dtype: int64"
      ]
     },
     "execution_count": 53,
     "metadata": {},
     "output_type": "execute_result"
    }
   ],
   "source": [
    "pd.DataFrame(df_fast_food['상호명'].value_counts()).iloc[0]"
   ]
  },
  {
   "cell_type": "code",
   "execution_count": 56,
   "metadata": {},
   "outputs": [
    {
     "data": {
      "text/plain": [
       "(1617,)"
      ]
     },
     "execution_count": 56,
     "metadata": {},
     "output_type": "execute_result"
    }
   ],
   "source": [
    "df_seoul['상호명'][df_seoul['상호명'].str.contains('피자')].shape"
   ]
  },
  {
   "cell_type": "markdown",
   "metadata": {},
   "source": [
    "df_seoul['상호명'][df_seoul['상호명'].str.contains('피자')].unique()"
   ]
  },
  {
   "cell_type": "markdown",
   "metadata": {
    "scrolled": true
   },
   "source": [
    "df_seoul['시군구명'].unique()"
   ]
  },
  {
   "cell_type": "code",
   "execution_count": 66,
   "metadata": {},
   "outputs": [],
   "source": [
    "# df_seoul['시군구명']=='강남구'\n",
    "# df_seoul['상호명'].str.contains('도미노피자')"
   ]
  },
  {
   "cell_type": "markdown",
   "metadata": {},
   "source": [
    "df_seoul[(df_seoul['시군구명']=='강남구') & (df_seoul['상호명'].str.contains('도미노피자'))]"
   ]
  },
  {
   "cell_type": "markdown",
   "metadata": {},
   "source": [
    "df_seoul[(df_seoul['시군구명']=='강남구') & (df_seoul['상호명'].str.contains('도미노피자'))]['지점명']"
   ]
  },
  {
   "cell_type": "code",
   "execution_count": 67,
   "metadata": {
    "scrolled": false
   },
   "outputs": [
    {
     "data": {
      "text/html": [
       "<div>\n",
       "<style scoped>\n",
       "    .dataframe tbody tr th:only-of-type {\n",
       "        vertical-align: middle;\n",
       "    }\n",
       "\n",
       "    .dataframe tbody tr th {\n",
       "        vertical-align: top;\n",
       "    }\n",
       "\n",
       "    .dataframe thead th {\n",
       "        text-align: right;\n",
       "    }\n",
       "</style>\n",
       "<table border=\"1\" class=\"dataframe\">\n",
       "  <thead>\n",
       "    <tr style=\"text-align: right;\">\n",
       "      <th></th>\n",
       "      <th>상가업소번호</th>\n",
       "      <th>상호명</th>\n",
       "      <th>지점명</th>\n",
       "      <th>상권업종대분류코드</th>\n",
       "      <th>상권업종대분류명</th>\n",
       "      <th>상권업종중분류코드</th>\n",
       "      <th>상권업종중분류명</th>\n",
       "      <th>상권업종소분류코드</th>\n",
       "      <th>상권업종소분류명</th>\n",
       "      <th>표준산업분류코드</th>\n",
       "      <th>...</th>\n",
       "      <th>건물관리번호</th>\n",
       "      <th>건물명</th>\n",
       "      <th>도로명주소</th>\n",
       "      <th>구우편번호</th>\n",
       "      <th>신우편번호</th>\n",
       "      <th>동정보</th>\n",
       "      <th>층정보</th>\n",
       "      <th>호정보</th>\n",
       "      <th>경도</th>\n",
       "      <th>위도</th>\n",
       "    </tr>\n",
       "  </thead>\n",
       "  <tbody>\n",
       "    <tr>\n",
       "      <th>12897</th>\n",
       "      <td>20561849</td>\n",
       "      <td>도미노피자</td>\n",
       "      <td>일원점</td>\n",
       "      <td>Q</td>\n",
       "      <td>음식</td>\n",
       "      <td>Q07</td>\n",
       "      <td>패스트푸드</td>\n",
       "      <td>Q07A01</td>\n",
       "      <td>피자전문</td>\n",
       "      <td>I56192</td>\n",
       "      <td>...</td>\n",
       "      <td>1168011400106870007002760</td>\n",
       "      <td>NaN</td>\n",
       "      <td>서울특별시 강남구 일원로9길 18</td>\n",
       "      <td>135230</td>\n",
       "      <td>6343.0</td>\n",
       "      <td>NaN</td>\n",
       "      <td>1</td>\n",
       "      <td>NaN</td>\n",
       "      <td>127.083096</td>\n",
       "      <td>37.489635</td>\n",
       "    </tr>\n",
       "    <tr>\n",
       "      <th>54507</th>\n",
       "      <td>20419152</td>\n",
       "      <td>도미노피자</td>\n",
       "      <td>역삼점</td>\n",
       "      <td>Q</td>\n",
       "      <td>음식</td>\n",
       "      <td>Q07</td>\n",
       "      <td>패스트푸드</td>\n",
       "      <td>Q07A01</td>\n",
       "      <td>피자전문</td>\n",
       "      <td>I56192</td>\n",
       "      <td>...</td>\n",
       "      <td>1168010100107210036023754</td>\n",
       "      <td>태현빌딩</td>\n",
       "      <td>서울특별시 강남구 언주로 413</td>\n",
       "      <td>135080</td>\n",
       "      <td>6222.0</td>\n",
       "      <td>NaN</td>\n",
       "      <td>1</td>\n",
       "      <td>NaN</td>\n",
       "      <td>127.043581</td>\n",
       "      <td>37.499828</td>\n",
       "    </tr>\n",
       "    <tr>\n",
       "      <th>86811</th>\n",
       "      <td>20019922</td>\n",
       "      <td>도미노피자</td>\n",
       "      <td>압구정점</td>\n",
       "      <td>Q</td>\n",
       "      <td>음식</td>\n",
       "      <td>Q07</td>\n",
       "      <td>패스트푸드</td>\n",
       "      <td>Q07A01</td>\n",
       "      <td>피자전문</td>\n",
       "      <td>I56192</td>\n",
       "      <td>...</td>\n",
       "      <td>1168010700106380002009656</td>\n",
       "      <td>NaN</td>\n",
       "      <td>서울특별시 강남구 압구정로 306</td>\n",
       "      <td>135896</td>\n",
       "      <td>6017.0</td>\n",
       "      <td>NaN</td>\n",
       "      <td>1</td>\n",
       "      <td>NaN</td>\n",
       "      <td>127.034736</td>\n",
       "      <td>37.528843</td>\n",
       "    </tr>\n",
       "    <tr>\n",
       "      <th>150920</th>\n",
       "      <td>20089674</td>\n",
       "      <td>도미노피자</td>\n",
       "      <td>삼성점</td>\n",
       "      <td>Q</td>\n",
       "      <td>음식</td>\n",
       "      <td>Q07</td>\n",
       "      <td>패스트푸드</td>\n",
       "      <td>Q07A01</td>\n",
       "      <td>피자전문</td>\n",
       "      <td>I56192</td>\n",
       "      <td>...</td>\n",
       "      <td>1168010500100440018016108</td>\n",
       "      <td>NaN</td>\n",
       "      <td>서울특별시 강남구 봉은사로 451</td>\n",
       "      <td>135090</td>\n",
       "      <td>6097.0</td>\n",
       "      <td>NaN</td>\n",
       "      <td>1</td>\n",
       "      <td>NaN</td>\n",
       "      <td>127.048990</td>\n",
       "      <td>37.512036</td>\n",
       "    </tr>\n",
       "    <tr>\n",
       "      <th>156492</th>\n",
       "      <td>25972841</td>\n",
       "      <td>도미노피자</td>\n",
       "      <td>개포점</td>\n",
       "      <td>Q</td>\n",
       "      <td>음식</td>\n",
       "      <td>Q07</td>\n",
       "      <td>패스트푸드</td>\n",
       "      <td>Q07A04</td>\n",
       "      <td>패스트푸드</td>\n",
       "      <td>I56199</td>\n",
       "      <td>...</td>\n",
       "      <td>1168011800109430000000288</td>\n",
       "      <td>뱅뱅빌딩</td>\n",
       "      <td>서울특별시 강남구 강남대로 292</td>\n",
       "      <td>135270</td>\n",
       "      <td>6258.0</td>\n",
       "      <td>1</td>\n",
       "      <td>4</td>\n",
       "      <td>NaN</td>\n",
       "      <td>127.032180</td>\n",
       "      <td>37.489364</td>\n",
       "    </tr>\n",
       "    <tr>\n",
       "      <th>261499</th>\n",
       "      <td>20027266</td>\n",
       "      <td>도미노피자</td>\n",
       "      <td>NaN</td>\n",
       "      <td>Q</td>\n",
       "      <td>음식</td>\n",
       "      <td>Q07</td>\n",
       "      <td>패스트푸드</td>\n",
       "      <td>Q07A01</td>\n",
       "      <td>피자전문</td>\n",
       "      <td>I56192</td>\n",
       "      <td>...</td>\n",
       "      <td>1168010100107790008024869</td>\n",
       "      <td>NaN</td>\n",
       "      <td>서울특별시 강남구 언주로 315</td>\n",
       "      <td>135080</td>\n",
       "      <td>6229.0</td>\n",
       "      <td>NaN</td>\n",
       "      <td>5</td>\n",
       "      <td>NaN</td>\n",
       "      <td>127.045508</td>\n",
       "      <td>37.495915</td>\n",
       "    </tr>\n",
       "    <tr>\n",
       "      <th>304199</th>\n",
       "      <td>20029019</td>\n",
       "      <td>도미노피자개포점</td>\n",
       "      <td>개포점</td>\n",
       "      <td>Q</td>\n",
       "      <td>음식</td>\n",
       "      <td>Q07</td>\n",
       "      <td>패스트푸드</td>\n",
       "      <td>Q07A01</td>\n",
       "      <td>피자전문</td>\n",
       "      <td>I56192</td>\n",
       "      <td>...</td>\n",
       "      <td>1168010300102280003020819</td>\n",
       "      <td>동진빌딩</td>\n",
       "      <td>서울특별시 강남구 논현로 58</td>\n",
       "      <td>135240</td>\n",
       "      <td>6312.0</td>\n",
       "      <td>NaN</td>\n",
       "      <td>1</td>\n",
       "      <td>NaN</td>\n",
       "      <td>127.047203</td>\n",
       "      <td>37.475547</td>\n",
       "    </tr>\n",
       "    <tr>\n",
       "      <th>397288</th>\n",
       "      <td>12087838</td>\n",
       "      <td>도미노피자역삼점</td>\n",
       "      <td>역삼점</td>\n",
       "      <td>Q</td>\n",
       "      <td>음식</td>\n",
       "      <td>Q07</td>\n",
       "      <td>패스트푸드</td>\n",
       "      <td>Q07A01</td>\n",
       "      <td>피자전문</td>\n",
       "      <td>I56192</td>\n",
       "      <td>...</td>\n",
       "      <td>1168010100107890000025387</td>\n",
       "      <td>동아빌딩</td>\n",
       "      <td>서울특별시 강남구 역삼로 146</td>\n",
       "      <td>135080</td>\n",
       "      <td>6249.0</td>\n",
       "      <td>NaN</td>\n",
       "      <td>1</td>\n",
       "      <td>NaN</td>\n",
       "      <td>127.035337</td>\n",
       "      <td>37.494508</td>\n",
       "    </tr>\n",
       "  </tbody>\n",
       "</table>\n",
       "<p>8 rows × 39 columns</p>\n",
       "</div>"
      ],
      "text/plain": [
       "          상가업소번호       상호명   지점명 상권업종대분류코드 상권업종대분류명 상권업종중분류코드 상권업종중분류명  \\\n",
       "12897   20561849     도미노피자   일원점         Q       음식       Q07    패스트푸드   \n",
       "54507   20419152     도미노피자   역삼점         Q       음식       Q07    패스트푸드   \n",
       "86811   20019922     도미노피자  압구정점         Q       음식       Q07    패스트푸드   \n",
       "150920  20089674     도미노피자   삼성점         Q       음식       Q07    패스트푸드   \n",
       "156492  25972841     도미노피자   개포점         Q       음식       Q07    패스트푸드   \n",
       "261499  20027266     도미노피자   NaN         Q       음식       Q07    패스트푸드   \n",
       "304199  20029019  도미노피자개포점   개포점         Q       음식       Q07    패스트푸드   \n",
       "397288  12087838  도미노피자역삼점   역삼점         Q       음식       Q07    패스트푸드   \n",
       "\n",
       "       상권업종소분류코드 상권업종소분류명 표준산업분류코드  ...                     건물관리번호   건물명  \\\n",
       "12897     Q07A01     피자전문   I56192  ...  1168011400106870007002760   NaN   \n",
       "54507     Q07A01     피자전문   I56192  ...  1168010100107210036023754  태현빌딩   \n",
       "86811     Q07A01     피자전문   I56192  ...  1168010700106380002009656   NaN   \n",
       "150920    Q07A01     피자전문   I56192  ...  1168010500100440018016108   NaN   \n",
       "156492    Q07A04    패스트푸드   I56199  ...  1168011800109430000000288  뱅뱅빌딩   \n",
       "261499    Q07A01     피자전문   I56192  ...  1168010100107790008024869   NaN   \n",
       "304199    Q07A01     피자전문   I56192  ...  1168010300102280003020819  동진빌딩   \n",
       "397288    Q07A01     피자전문   I56192  ...  1168010100107890000025387  동아빌딩   \n",
       "\n",
       "                     도로명주소   구우편번호   신우편번호  동정보 층정보  호정보          경도  \\\n",
       "12897   서울특별시 강남구 일원로9길 18  135230  6343.0  NaN   1  NaN  127.083096   \n",
       "54507    서울특별시 강남구 언주로 413  135080  6222.0  NaN   1  NaN  127.043581   \n",
       "86811   서울특별시 강남구 압구정로 306  135896  6017.0  NaN   1  NaN  127.034736   \n",
       "150920  서울특별시 강남구 봉은사로 451  135090  6097.0  NaN   1  NaN  127.048990   \n",
       "156492  서울특별시 강남구 강남대로 292  135270  6258.0    1   4  NaN  127.032180   \n",
       "261499   서울특별시 강남구 언주로 315  135080  6229.0  NaN   5  NaN  127.045508   \n",
       "304199    서울특별시 강남구 논현로 58  135240  6312.0  NaN   1  NaN  127.047203   \n",
       "397288   서울특별시 강남구 역삼로 146  135080  6249.0  NaN   1  NaN  127.035337   \n",
       "\n",
       "               위도  \n",
       "12897   37.489635  \n",
       "54507   37.499828  \n",
       "86811   37.528843  \n",
       "150920  37.512036  \n",
       "156492  37.489364  \n",
       "261499  37.495915  \n",
       "304199  37.475547  \n",
       "397288  37.494508  \n",
       "\n",
       "[8 rows x 39 columns]"
      ]
     },
     "execution_count": 67,
     "metadata": {},
     "output_type": "execute_result"
    }
   ],
   "source": [
    "df_seoul[(df_seoul['시군구명']=='강남구') & (df_seoul['상호명'].str.contains('도미노피자'))]"
   ]
  },
  {
   "cell_type": "code",
   "execution_count": 69,
   "metadata": {},
   "outputs": [
    {
     "data": {
      "text/plain": [
       "12897      일원점\n",
       "54507      역삼점\n",
       "86811     압구정점\n",
       "150920     삼성점\n",
       "156492     개포점\n",
       "261499     NaN\n",
       "304199     개포점\n",
       "397288     역삼점\n",
       "Name: 지점명, dtype: object"
      ]
     },
     "execution_count": 69,
     "metadata": {},
     "output_type": "execute_result"
    }
   ],
   "source": [
    "df_seoul[(df_seoul['시군구명']=='강남구') & (df_seoul['상호명'].str.contains('도미노피자'))]['지점명']"
   ]
  },
  {
   "cell_type": "markdown",
   "metadata": {},
   "source": [
    "# ----------------"
   ]
  },
  {
   "cell_type": "markdown",
   "metadata": {},
   "source": [
    "# 베스킨라빈스와 던킨도너츠 "
   ]
  },
  {
   "cell_type": "code",
   "execution_count": null,
   "metadata": {},
   "outputs": [],
   "source": []
  },
  {
   "cell_type": "markdown",
   "metadata": {},
   "source": [
    "## 배스킨라빈스와 던킨도너츠 데이타프레임 생성"
   ]
  },
  {
   "cell_type": "markdown",
   "metadata": {
    "scrolled": true
   },
   "source": [
    "```\n",
    "df_31 = df_seoul[df_seoul['상호명'].str.contains('배스킨|던킨')].copy()\n",
    "df_31.shape\n",
    "```"
   ]
  },
  {
   "cell_type": "code",
   "execution_count": 16,
   "metadata": {
    "scrolled": true
   },
   "outputs": [
    {
     "data": {
      "text/plain": [
       "(438, 39)"
      ]
     },
     "execution_count": 16,
     "metadata": {},
     "output_type": "execute_result"
    }
   ],
   "source": [
    "df_31 = df_seoul[df_seoul['상호명'].str.contains('배스킨|던킨')].copy()\n",
    "df_31.shape"
   ]
  },
  {
   "cell_type": "code",
   "execution_count": 17,
   "metadata": {},
   "outputs": [
    {
     "data": {
      "text/plain": [
       "Index(['상가업소번호', '상호명', '지점명', '상권업종대분류코드', '상권업종대분류명', '상권업종중분류코드',\n",
       "       '상권업종중분류명', '상권업종소분류코드', '상권업종소분류명', '표준산업분류코드', '표준산업분류명', '시도코드',\n",
       "       '시도명', '시군구코드', '시군구명', '행정동코드', '행정동명', '법정동코드', '법정동명', '지번코드',\n",
       "       '대지구분코드', '대지구분명', '지번본번지', '지번부번지', '지번주소', '도로명코드', '도로명', '건물본번지',\n",
       "       '건물부번지', '건물관리번호', '건물명', '도로명주소', '구우편번호', '신우편번호', '동정보', '층정보',\n",
       "       '호정보', '경도', '위도'],\n",
       "      dtype='object')"
      ]
     },
     "execution_count": 17,
     "metadata": {},
     "output_type": "execute_result"
    }
   ],
   "source": [
    "df_31.columns"
   ]
  },
  {
   "cell_type": "markdown",
   "metadata": {},
   "source": [
    "## 컬럼명 정리"
   ]
  },
  {
   "cell_type": "markdown",
   "metadata": {},
   "source": [
    "df_31 = df_31[['상호명', '지점명', '상권업종대분류명', '상권업종중분류명', '지번주소', '도로명주소',  '위도', '경도', '시군구명', '행정동명']].copy()\n",
    "df_31.columns"
   ]
  },
  {
   "cell_type": "code",
   "execution_count": 71,
   "metadata": {},
   "outputs": [
    {
     "data": {
      "text/plain": [
       "Index(['상호명', '지점명', '상권업종대분류명', '상권업종중분류명', '지번주소', '도로명주소', '위도', '경도',\n",
       "       '시군구명', '행정동명'],\n",
       "      dtype='object')"
      ]
     },
     "execution_count": 71,
     "metadata": {},
     "output_type": "execute_result"
    }
   ],
   "source": [
    "df_31 = df_31[['상호명', '지점명', '상권업종대분류명', '상권업종중분류명', \n",
    "               '지번주소', '도로명주소',  '위도', '경도', '시군구명', '행정동명']].copy()\n",
    "df_31.columns"
   ]
  },
  {
   "cell_type": "code",
   "execution_count": 72,
   "metadata": {},
   "outputs": [
    {
     "data": {
      "text/html": [
       "<div>\n",
       "<style scoped>\n",
       "    .dataframe tbody tr th:only-of-type {\n",
       "        vertical-align: middle;\n",
       "    }\n",
       "\n",
       "    .dataframe tbody tr th {\n",
       "        vertical-align: top;\n",
       "    }\n",
       "\n",
       "    .dataframe thead th {\n",
       "        text-align: right;\n",
       "    }\n",
       "</style>\n",
       "<table border=\"1\" class=\"dataframe\">\n",
       "  <thead>\n",
       "    <tr style=\"text-align: right;\">\n",
       "      <th></th>\n",
       "      <th>상호명</th>\n",
       "      <th>지점명</th>\n",
       "      <th>상권업종대분류명</th>\n",
       "      <th>상권업종중분류명</th>\n",
       "      <th>지번주소</th>\n",
       "      <th>도로명주소</th>\n",
       "      <th>위도</th>\n",
       "      <th>경도</th>\n",
       "      <th>시군구명</th>\n",
       "      <th>행정동명</th>\n",
       "    </tr>\n",
       "  </thead>\n",
       "  <tbody>\n",
       "    <tr>\n",
       "      <th>63</th>\n",
       "      <td>배스킨라빈스</td>\n",
       "      <td>관악구청점</td>\n",
       "      <td>음식</td>\n",
       "      <td>패스트푸드</td>\n",
       "      <td>서울특별시 관악구 봉천동 863-13</td>\n",
       "      <td>서울특별시 관악구 관악로 161</td>\n",
       "      <td>37.479599</td>\n",
       "      <td>126.952166</td>\n",
       "      <td>관악구</td>\n",
       "      <td>청룡동</td>\n",
       "    </tr>\n",
       "    <tr>\n",
       "      <th>1564</th>\n",
       "      <td>던킨도너츠테크노마트점</td>\n",
       "      <td>테크노마트점</td>\n",
       "      <td>음식</td>\n",
       "      <td>패스트푸드</td>\n",
       "      <td>서울특별시 광진구 구의동 546-4</td>\n",
       "      <td>서울특별시 광진구 광나루로56길 85</td>\n",
       "      <td>37.535713</td>\n",
       "      <td>127.095681</td>\n",
       "      <td>광진구</td>\n",
       "      <td>구의3동</td>\n",
       "    </tr>\n",
       "    <tr>\n",
       "      <th>1921</th>\n",
       "      <td>던킨도너츠창동하나로</td>\n",
       "      <td>NaN</td>\n",
       "      <td>음식</td>\n",
       "      <td>패스트푸드</td>\n",
       "      <td>서울특별시 도봉구 창동 1-10</td>\n",
       "      <td>서울특별시 도봉구 마들로11길 20</td>\n",
       "      <td>37.655101</td>\n",
       "      <td>127.050818</td>\n",
       "      <td>도봉구</td>\n",
       "      <td>창4동</td>\n",
       "    </tr>\n",
       "    <tr>\n",
       "      <th>1958</th>\n",
       "      <td>던킨도너츠용산민자역사2호</td>\n",
       "      <td>NaN</td>\n",
       "      <td>음식</td>\n",
       "      <td>패스트푸드</td>\n",
       "      <td>서울특별시 용산구 한강로3가 40-999</td>\n",
       "      <td>서울특별시 용산구 한강대로21나길 7</td>\n",
       "      <td>37.527903</td>\n",
       "      <td>126.963223</td>\n",
       "      <td>용산구</td>\n",
       "      <td>한강로동</td>\n",
       "    </tr>\n",
       "    <tr>\n",
       "      <th>2459</th>\n",
       "      <td>던킨도너츠</td>\n",
       "      <td>잠실본동점</td>\n",
       "      <td>음식</td>\n",
       "      <td>패스트푸드</td>\n",
       "      <td>서울특별시 송파구 잠실동 242-9</td>\n",
       "      <td>서울특별시 송파구 석촌호수로 118</td>\n",
       "      <td>37.507431</td>\n",
       "      <td>127.090005</td>\n",
       "      <td>송파구</td>\n",
       "      <td>잠실본동</td>\n",
       "    </tr>\n",
       "  </tbody>\n",
       "</table>\n",
       "</div>"
      ],
      "text/plain": [
       "                상호명     지점명 상권업종대분류명 상권업종중분류명                    지번주소  \\\n",
       "63           배스킨라빈스   관악구청점       음식    패스트푸드    서울특별시 관악구 봉천동 863-13   \n",
       "1564    던킨도너츠테크노마트점  테크노마트점       음식    패스트푸드     서울특별시 광진구 구의동 546-4   \n",
       "1921     던킨도너츠창동하나로     NaN       음식    패스트푸드       서울특별시 도봉구 창동 1-10   \n",
       "1958  던킨도너츠용산민자역사2호     NaN       음식    패스트푸드  서울특별시 용산구 한강로3가 40-999   \n",
       "2459          던킨도너츠   잠실본동점       음식    패스트푸드     서울특별시 송파구 잠실동 242-9   \n",
       "\n",
       "                     도로명주소         위도          경도 시군구명  행정동명  \n",
       "63       서울특별시 관악구 관악로 161  37.479599  126.952166  관악구   청룡동  \n",
       "1564  서울특별시 광진구 광나루로56길 85  37.535713  127.095681  광진구  구의3동  \n",
       "1921   서울특별시 도봉구 마들로11길 20  37.655101  127.050818  도봉구   창4동  \n",
       "1958  서울특별시 용산구 한강대로21나길 7  37.527903  126.963223  용산구  한강로동  \n",
       "2459   서울특별시 송파구 석촌호수로 118  37.507431  127.090005  송파구  잠실본동  "
      ]
     },
     "execution_count": 72,
     "metadata": {},
     "output_type": "execute_result"
    }
   ],
   "source": [
    "df_31.head()"
   ]
  },
  {
   "cell_type": "markdown",
   "metadata": {},
   "source": [
    "df_31['상호명'].value_counts()"
   ]
  },
  {
   "cell_type": "markdown",
   "metadata": {},
   "source": [
    "## 브랜드명 컬럼 추가하기 "
   ]
  },
  {
   "cell_type": "code",
   "execution_count": 19,
   "metadata": {},
   "outputs": [],
   "source": [
    "df_31['브랜드명'] = ''"
   ]
  },
  {
   "cell_type": "markdown",
   "metadata": {
    "scrolled": true
   },
   "source": [
    "df_31[['상호명', '브랜드명']].head()"
   ]
  },
  {
   "cell_type": "markdown",
   "metadata": {},
   "source": [
    "df_31.loc[df_31['상호명'].str.contains('배스킨'), '브랜드명'] = '배스킨라빈스'\n",
    "df_31.loc[df_31['상호명'].str.contains('던킨'), '브랜드명'] = '던킨도너츠'"
   ]
  },
  {
   "cell_type": "code",
   "execution_count": 20,
   "metadata": {},
   "outputs": [],
   "source": [
    "df_31.loc[df_31['상호명'].str.contains('배스킨'), '브랜드명'] = '배스킨라빈스'\n",
    "df_31.loc[df_31['상호명'].str.contains('던킨'), '브랜드명'] = '던킨도너츠'"
   ]
  },
  {
   "cell_type": "code",
   "execution_count": 21,
   "metadata": {
    "scrolled": true
   },
   "outputs": [
    {
     "data": {
      "text/html": [
       "<div>\n",
       "<style scoped>\n",
       "    .dataframe tbody tr th:only-of-type {\n",
       "        vertical-align: middle;\n",
       "    }\n",
       "\n",
       "    .dataframe tbody tr th {\n",
       "        vertical-align: top;\n",
       "    }\n",
       "\n",
       "    .dataframe thead th {\n",
       "        text-align: right;\n",
       "    }\n",
       "</style>\n",
       "<table border=\"1\" class=\"dataframe\">\n",
       "  <thead>\n",
       "    <tr style=\"text-align: right;\">\n",
       "      <th></th>\n",
       "      <th>상호명</th>\n",
       "      <th>브랜드명</th>\n",
       "    </tr>\n",
       "  </thead>\n",
       "  <tbody>\n",
       "    <tr>\n",
       "      <th>63</th>\n",
       "      <td>배스킨라빈스</td>\n",
       "      <td>배스킨라빈스</td>\n",
       "    </tr>\n",
       "    <tr>\n",
       "      <th>1564</th>\n",
       "      <td>던킨도너츠테크노마트점</td>\n",
       "      <td>던킨도너츠</td>\n",
       "    </tr>\n",
       "    <tr>\n",
       "      <th>1921</th>\n",
       "      <td>던킨도너츠창동하나로</td>\n",
       "      <td>던킨도너츠</td>\n",
       "    </tr>\n",
       "    <tr>\n",
       "      <th>1958</th>\n",
       "      <td>던킨도너츠용산민자역사2호</td>\n",
       "      <td>던킨도너츠</td>\n",
       "    </tr>\n",
       "    <tr>\n",
       "      <th>2459</th>\n",
       "      <td>던킨도너츠</td>\n",
       "      <td>던킨도너츠</td>\n",
       "    </tr>\n",
       "  </tbody>\n",
       "</table>\n",
       "</div>"
      ],
      "text/plain": [
       "                상호명    브랜드명\n",
       "63           배스킨라빈스  배스킨라빈스\n",
       "1564    던킨도너츠테크노마트점   던킨도너츠\n",
       "1921     던킨도너츠창동하나로   던킨도너츠\n",
       "1958  던킨도너츠용산민자역사2호   던킨도너츠\n",
       "2459          던킨도너츠   던킨도너츠"
      ]
     },
     "execution_count": 21,
     "metadata": {},
     "output_type": "execute_result"
    }
   ],
   "source": [
    "df_31[['상호명', '브랜드명']].head()"
   ]
  },
  {
   "cell_type": "code",
   "execution_count": 78,
   "metadata": {},
   "outputs": [
    {
     "data": {
      "text/plain": [
       "배스킨라빈스    290\n",
       "던킨도너츠     148\n",
       "Name: 브랜드명, dtype: int64"
      ]
     },
     "execution_count": 78,
     "metadata": {},
     "output_type": "execute_result"
    }
   ],
   "source": [
    "df_31_group_count = df_31['브랜드명'].value_counts()\n",
    "df_31_group_count"
   ]
  },
  {
   "cell_type": "code",
   "execution_count": 81,
   "metadata": {},
   "outputs": [
    {
     "name": "stdout",
     "output_type": "stream",
     "text": [
      "던킨도너츠보다 배스킨라빈스의 매장이 1.96배 많다.\n"
     ]
    }
   ],
   "source": [
    "df_31_ratio = df_31_group_count[0]/df_31_group_count[1]\n",
    "print('던킨도너츠보다 배스킨라빈스의 매장이 {0:.2f}배 많다.'.format(df_31_ratio))"
   ]
  }
 ],
 "metadata": {
  "kernelspec": {
   "display_name": "Python 3",
   "language": "python",
   "name": "python3"
  },
  "language_info": {
   "codemirror_mode": {
    "name": "ipython",
    "version": 3
   },
   "file_extension": ".py",
   "mimetype": "text/x-python",
   "name": "python",
   "nbconvert_exporter": "python",
   "pygments_lexer": "ipython3",
   "version": "3.7.3"
  },
  "varInspector": {
   "cols": {
    "lenName": 16,
    "lenType": 16,
    "lenVar": 40
   },
   "kernels_config": {
    "python": {
     "delete_cmd_postfix": "",
     "delete_cmd_prefix": "del ",
     "library": "var_list.py",
     "varRefreshCmd": "print(var_dic_list())"
    },
    "r": {
     "delete_cmd_postfix": ") ",
     "delete_cmd_prefix": "rm(",
     "library": "var_list.r",
     "varRefreshCmd": "cat(var_dic_list()) "
    }
   },
   "types_to_exclude": [
    "module",
    "function",
    "builtin_function_or_method",
    "instance",
    "_Feature"
   ],
   "window_display": false
  }
 },
 "nbformat": 4,
 "nbformat_minor": 2
}
